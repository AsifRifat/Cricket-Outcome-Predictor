{
  "nbformat": 4,
  "nbformat_minor": 0,
  "metadata": {
    "colab": {
      "name": "CricketOutcomePrediction.ipynb",
      "provenance": [],
      "collapsed_sections": [],
      "mount_file_id": "1PIs-EopQ_KrLgJ1V-1-hjJBfcZbNTdjy",
      "authorship_tag": "ABX9TyMXhj4ODz+CRT0rw5S8MmR/",
      "include_colab_link": true
    },
    "kernelspec": {
      "display_name": "Python 3",
      "name": "python3"
    },
    "language_info": {
      "name": "python"
    }
  },
  "cells": [
    {
      "cell_type": "markdown",
      "metadata": {
        "id": "view-in-github",
        "colab_type": "text"
      },
      "source": [
        "<a href=\"https://colab.research.google.com/github/AsifRifat/Cricket-Outcome-Predictor/blob/main/CricketOutcomePrediction.ipynb\" target=\"_parent\"><img src=\"https://colab.research.google.com/assets/colab-badge.svg\" alt=\"Open In Colab\"/></a>"
      ]
    },
    {
      "cell_type": "markdown",
      "metadata": {
        "id": "-PR9-rYDIqCI"
      },
      "source": [
        "# **Import necessary libraries**"
      ]
    },
    {
      "cell_type": "code",
      "metadata": {
        "colab": {
          "base_uri": "https://localhost:8080/"
        },
        "id": "UqgZDoflJZ84",
        "outputId": "10bae90e-a2bb-4d76-9cd5-d5de93e8871d"
      },
      "source": [
        "from google.colab import drive\n",
        "drive.mount('/content/drive')"
      ],
      "execution_count": null,
      "outputs": [
        {
          "output_type": "stream",
          "name": "stdout",
          "text": [
            "Drive already mounted at /content/drive; to attempt to forcibly remount, call drive.mount(\"/content/drive\", force_remount=True).\n"
          ]
        }
      ]
    },
    {
      "cell_type": "code",
      "metadata": {
        "id": "s-KU7hU2IjyN"
      },
      "source": [
        "import os\n",
        "import pandas as pd\n",
        "import numpy as np\n",
        "import glob\n",
        "import pickle\n",
        "from pandas import DataFrame\n",
        "from sklearn.model_selection import GridSearchCV\n",
        "from sklearn import metrics\n",
        "import matplotlib.pyplot as plt\n",
        "import seaborn as sns\n",
        "import warnings\n",
        "warnings.filterwarnings('ignore')"
      ],
      "execution_count": 61,
      "outputs": []
    },
    {
      "cell_type": "markdown",
      "metadata": {
        "id": "exDryfItI9m8"
      },
      "source": [
        "# **Merge all csv files of ODI matches**"
      ]
    },
    {
      "cell_type": "code",
      "metadata": {
        "id": "YP7d1PZkI5X-"
      },
      "source": [
        "extension = 'csv'\n",
        "all_filenames = [i for i in glob.glob('*.{}'.format(extension))]"
      ],
      "execution_count": null,
      "outputs": []
    },
    {
      "cell_type": "code",
      "metadata": {
        "colab": {
          "background_save": true
        },
        "id": "nRfyu7xraXkn"
      },
      "source": [
        "#combine all files in the list\n",
        "combined_csv = pd.concat([pd.read_csv(f) for f in all_filenames ])\n",
        "#export to csv\n",
        "combined_csv.to_csv( \"odi.csv\", index=False)"
      ],
      "execution_count": null,
      "outputs": []
    },
    {
      "cell_type": "markdown",
      "metadata": {
        "id": "eHmm5CBwJs4e"
      },
      "source": [
        "# **Import Dataset ODI**"
      ]
    },
    {
      "cell_type": "code",
      "metadata": {
        "colab": {
          "base_uri": "https://localhost:8080/"
        },
        "id": "VNuhg42SJ1Tv",
        "outputId": "a9a9b892-5ec2-4a87-ba9f-87b837b29a0b"
      },
      "source": [
        "%cd /content/drive/My\\ Drive/cricket data"
      ],
      "execution_count": 62,
      "outputs": [
        {
          "output_type": "stream",
          "name": "stdout",
          "text": [
            "/content/drive/My Drive/cricket data\n"
          ]
        }
      ]
    },
    {
      "cell_type": "code",
      "metadata": {
        "id": "2VBradoBfJwQ"
      },
      "source": [
        "df1 = pd.read_csv(\"odi.csv\")"
      ],
      "execution_count": 220,
      "outputs": []
    },
    {
      "cell_type": "code",
      "metadata": {
        "id": "RYZOyWHUfR-2"
      },
      "source": [
        "df2 = pd.read_csv(\"t20.csv\")"
      ],
      "execution_count": 221,
      "outputs": []
    },
    {
      "cell_type": "code",
      "metadata": {
        "id": "Yh3AO7D_Ux2G"
      },
      "source": [
        "df3 = pd.read_csv(\"odi_matches.csv\")"
      ],
      "execution_count": 222,
      "outputs": []
    },
    {
      "cell_type": "code",
      "metadata": {
        "colab": {
          "base_uri": "https://localhost:8080/",
          "height": 487
        },
        "id": "mrzEfp1jffRj",
        "outputId": "731bb5e6-4c75-42d4-ff05-d1a75ab8dc0f"
      },
      "source": [
        "pd.set_option(\"display.max_rows\", None, \"display.max_columns\", None)\n",
        "df1.tail(5)"
      ],
      "execution_count": 223,
      "outputs": [
        {
          "output_type": "execute_result",
          "data": {
            "text/html": [
              "<div>\n",
              "<style scoped>\n",
              "    .dataframe tbody tr th:only-of-type {\n",
              "        vertical-align: middle;\n",
              "    }\n",
              "\n",
              "    .dataframe tbody tr th {\n",
              "        vertical-align: top;\n",
              "    }\n",
              "\n",
              "    .dataframe thead th {\n",
              "        text-align: right;\n",
              "    }\n",
              "</style>\n",
              "<table border=\"1\" class=\"dataframe\">\n",
              "  <thead>\n",
              "    <tr style=\"text-align: right;\">\n",
              "      <th></th>\n",
              "      <th>match_id</th>\n",
              "      <th>season</th>\n",
              "      <th>start_date</th>\n",
              "      <th>venue</th>\n",
              "      <th>innings</th>\n",
              "      <th>ball</th>\n",
              "      <th>batting_team</th>\n",
              "      <th>bowling_team</th>\n",
              "      <th>striker</th>\n",
              "      <th>non_striker</th>\n",
              "      <th>bowler</th>\n",
              "      <th>runs_off_bat</th>\n",
              "      <th>extras</th>\n",
              "      <th>wides</th>\n",
              "      <th>noballs</th>\n",
              "      <th>byes</th>\n",
              "      <th>legbyes</th>\n",
              "      <th>penalty</th>\n",
              "      <th>wicket_type</th>\n",
              "      <th>player_dismissed</th>\n",
              "      <th>other_wicket_type</th>\n",
              "      <th>other_player_dismissed</th>\n",
              "    </tr>\n",
              "  </thead>\n",
              "  <tbody>\n",
              "    <tr>\n",
              "      <th>1036705</th>\n",
              "      <td>1290881</td>\n",
              "      <td>2021/22</td>\n",
              "      <td>2021-11-26</td>\n",
              "      <td>Wanderers Cricket Ground, Windhoek</td>\n",
              "      <td>2</td>\n",
              "      <td>46.1</td>\n",
              "      <td>Oman</td>\n",
              "      <td>Namibia</td>\n",
              "      <td>Zeeshan Maqsood</td>\n",
              "      <td>Kaleemullah</td>\n",
              "      <td>R Trumpelmann</td>\n",
              "      <td>1</td>\n",
              "      <td>0</td>\n",
              "      <td>NaN</td>\n",
              "      <td>NaN</td>\n",
              "      <td>NaN</td>\n",
              "      <td>NaN</td>\n",
              "      <td>NaN</td>\n",
              "      <td>NaN</td>\n",
              "      <td>NaN</td>\n",
              "      <td>NaN</td>\n",
              "      <td>NaN</td>\n",
              "    </tr>\n",
              "    <tr>\n",
              "      <th>1036706</th>\n",
              "      <td>1290881</td>\n",
              "      <td>2021/22</td>\n",
              "      <td>2021-11-26</td>\n",
              "      <td>Wanderers Cricket Ground, Windhoek</td>\n",
              "      <td>2</td>\n",
              "      <td>46.2</td>\n",
              "      <td>Oman</td>\n",
              "      <td>Namibia</td>\n",
              "      <td>Kaleemullah</td>\n",
              "      <td>Zeeshan Maqsood</td>\n",
              "      <td>R Trumpelmann</td>\n",
              "      <td>1</td>\n",
              "      <td>0</td>\n",
              "      <td>NaN</td>\n",
              "      <td>NaN</td>\n",
              "      <td>NaN</td>\n",
              "      <td>NaN</td>\n",
              "      <td>NaN</td>\n",
              "      <td>NaN</td>\n",
              "      <td>NaN</td>\n",
              "      <td>NaN</td>\n",
              "      <td>NaN</td>\n",
              "    </tr>\n",
              "    <tr>\n",
              "      <th>1036707</th>\n",
              "      <td>1290881</td>\n",
              "      <td>2021/22</td>\n",
              "      <td>2021-11-26</td>\n",
              "      <td>Wanderers Cricket Ground, Windhoek</td>\n",
              "      <td>2</td>\n",
              "      <td>46.3</td>\n",
              "      <td>Oman</td>\n",
              "      <td>Namibia</td>\n",
              "      <td>Zeeshan Maqsood</td>\n",
              "      <td>Kaleemullah</td>\n",
              "      <td>R Trumpelmann</td>\n",
              "      <td>4</td>\n",
              "      <td>0</td>\n",
              "      <td>NaN</td>\n",
              "      <td>NaN</td>\n",
              "      <td>NaN</td>\n",
              "      <td>NaN</td>\n",
              "      <td>NaN</td>\n",
              "      <td>NaN</td>\n",
              "      <td>NaN</td>\n",
              "      <td>NaN</td>\n",
              "      <td>NaN</td>\n",
              "    </tr>\n",
              "    <tr>\n",
              "      <th>1036708</th>\n",
              "      <td>1290881</td>\n",
              "      <td>2021/22</td>\n",
              "      <td>2021-11-26</td>\n",
              "      <td>Wanderers Cricket Ground, Windhoek</td>\n",
              "      <td>2</td>\n",
              "      <td>46.4</td>\n",
              "      <td>Oman</td>\n",
              "      <td>Namibia</td>\n",
              "      <td>Zeeshan Maqsood</td>\n",
              "      <td>Kaleemullah</td>\n",
              "      <td>R Trumpelmann</td>\n",
              "      <td>0</td>\n",
              "      <td>0</td>\n",
              "      <td>NaN</td>\n",
              "      <td>NaN</td>\n",
              "      <td>NaN</td>\n",
              "      <td>NaN</td>\n",
              "      <td>NaN</td>\n",
              "      <td>caught</td>\n",
              "      <td>Zeeshan Maqsood</td>\n",
              "      <td>NaN</td>\n",
              "      <td>NaN</td>\n",
              "    </tr>\n",
              "    <tr>\n",
              "      <th>1036709</th>\n",
              "      <td>1290881</td>\n",
              "      <td>2021/22</td>\n",
              "      <td>2021-11-26</td>\n",
              "      <td>Wanderers Cricket Ground, Windhoek</td>\n",
              "      <td>2</td>\n",
              "      <td>46.5</td>\n",
              "      <td>Oman</td>\n",
              "      <td>Namibia</td>\n",
              "      <td>Bilal Khan</td>\n",
              "      <td>Kaleemullah</td>\n",
              "      <td>R Trumpelmann</td>\n",
              "      <td>0</td>\n",
              "      <td>0</td>\n",
              "      <td>NaN</td>\n",
              "      <td>NaN</td>\n",
              "      <td>NaN</td>\n",
              "      <td>NaN</td>\n",
              "      <td>NaN</td>\n",
              "      <td>caught</td>\n",
              "      <td>Bilal Khan</td>\n",
              "      <td>NaN</td>\n",
              "      <td>NaN</td>\n",
              "    </tr>\n",
              "  </tbody>\n",
              "</table>\n",
              "</div>"
            ],
            "text/plain": [
              "         match_id   season  start_date                               venue  \\\n",
              "1036705   1290881  2021/22  2021-11-26  Wanderers Cricket Ground, Windhoek   \n",
              "1036706   1290881  2021/22  2021-11-26  Wanderers Cricket Ground, Windhoek   \n",
              "1036707   1290881  2021/22  2021-11-26  Wanderers Cricket Ground, Windhoek   \n",
              "1036708   1290881  2021/22  2021-11-26  Wanderers Cricket Ground, Windhoek   \n",
              "1036709   1290881  2021/22  2021-11-26  Wanderers Cricket Ground, Windhoek   \n",
              "\n",
              "         innings  ball batting_team bowling_team          striker  \\\n",
              "1036705        2  46.1         Oman      Namibia  Zeeshan Maqsood   \n",
              "1036706        2  46.2         Oman      Namibia      Kaleemullah   \n",
              "1036707        2  46.3         Oman      Namibia  Zeeshan Maqsood   \n",
              "1036708        2  46.4         Oman      Namibia  Zeeshan Maqsood   \n",
              "1036709        2  46.5         Oman      Namibia       Bilal Khan   \n",
              "\n",
              "             non_striker         bowler  runs_off_bat  extras  wides  noballs  \\\n",
              "1036705      Kaleemullah  R Trumpelmann             1       0    NaN      NaN   \n",
              "1036706  Zeeshan Maqsood  R Trumpelmann             1       0    NaN      NaN   \n",
              "1036707      Kaleemullah  R Trumpelmann             4       0    NaN      NaN   \n",
              "1036708      Kaleemullah  R Trumpelmann             0       0    NaN      NaN   \n",
              "1036709      Kaleemullah  R Trumpelmann             0       0    NaN      NaN   \n",
              "\n",
              "         byes  legbyes  penalty wicket_type player_dismissed  \\\n",
              "1036705   NaN      NaN      NaN         NaN              NaN   \n",
              "1036706   NaN      NaN      NaN         NaN              NaN   \n",
              "1036707   NaN      NaN      NaN         NaN              NaN   \n",
              "1036708   NaN      NaN      NaN      caught  Zeeshan Maqsood   \n",
              "1036709   NaN      NaN      NaN      caught       Bilal Khan   \n",
              "\n",
              "         other_wicket_type  other_player_dismissed  \n",
              "1036705                NaN                     NaN  \n",
              "1036706                NaN                     NaN  \n",
              "1036707                NaN                     NaN  \n",
              "1036708                NaN                     NaN  \n",
              "1036709                NaN                     NaN  "
            ]
          },
          "metadata": {},
          "execution_count": 223
        }
      ]
    },
    {
      "cell_type": "code",
      "metadata": {
        "colab": {
          "base_uri": "https://localhost:8080/",
          "height": 313
        },
        "id": "2iLuNtcfffbD",
        "outputId": "036942ce-00d8-4af1-a015-231d1ed9faa5"
      },
      "source": [
        "df2.head(5)"
      ],
      "execution_count": 224,
      "outputs": [
        {
          "output_type": "execute_result",
          "data": {
            "text/html": [
              "<div>\n",
              "<style scoped>\n",
              "    .dataframe tbody tr th:only-of-type {\n",
              "        vertical-align: middle;\n",
              "    }\n",
              "\n",
              "    .dataframe tbody tr th {\n",
              "        vertical-align: top;\n",
              "    }\n",
              "\n",
              "    .dataframe thead th {\n",
              "        text-align: right;\n",
              "    }\n",
              "</style>\n",
              "<table border=\"1\" class=\"dataframe\">\n",
              "  <thead>\n",
              "    <tr style=\"text-align: right;\">\n",
              "      <th></th>\n",
              "      <th>match_id</th>\n",
              "      <th>season</th>\n",
              "      <th>start_date</th>\n",
              "      <th>venue</th>\n",
              "      <th>innings</th>\n",
              "      <th>ball</th>\n",
              "      <th>batting_team</th>\n",
              "      <th>bowling_team</th>\n",
              "      <th>striker</th>\n",
              "      <th>non_striker</th>\n",
              "      <th>bowler</th>\n",
              "      <th>runs_off_bat</th>\n",
              "      <th>extras</th>\n",
              "      <th>wides</th>\n",
              "      <th>noballs</th>\n",
              "      <th>byes</th>\n",
              "      <th>legbyes</th>\n",
              "      <th>penalty</th>\n",
              "      <th>wicket_type</th>\n",
              "      <th>player_dismissed</th>\n",
              "      <th>other_wicket_type</th>\n",
              "      <th>other_player_dismissed</th>\n",
              "    </tr>\n",
              "  </thead>\n",
              "  <tbody>\n",
              "    <tr>\n",
              "      <th>0</th>\n",
              "      <td>211048</td>\n",
              "      <td>2004/05</td>\n",
              "      <td>2005-02-17</td>\n",
              "      <td>Eden Park</td>\n",
              "      <td>1</td>\n",
              "      <td>0.1</td>\n",
              "      <td>Australia</td>\n",
              "      <td>New Zealand</td>\n",
              "      <td>AC Gilchrist</td>\n",
              "      <td>MJ Clarke</td>\n",
              "      <td>DR Tuffey</td>\n",
              "      <td>0</td>\n",
              "      <td>1</td>\n",
              "      <td>1.0</td>\n",
              "      <td>NaN</td>\n",
              "      <td>NaN</td>\n",
              "      <td>NaN</td>\n",
              "      <td>NaN</td>\n",
              "      <td>NaN</td>\n",
              "      <td>NaN</td>\n",
              "      <td>NaN</td>\n",
              "      <td>NaN</td>\n",
              "    </tr>\n",
              "    <tr>\n",
              "      <th>1</th>\n",
              "      <td>211048</td>\n",
              "      <td>2004/05</td>\n",
              "      <td>2005-02-17</td>\n",
              "      <td>Eden Park</td>\n",
              "      <td>1</td>\n",
              "      <td>0.2</td>\n",
              "      <td>Australia</td>\n",
              "      <td>New Zealand</td>\n",
              "      <td>AC Gilchrist</td>\n",
              "      <td>MJ Clarke</td>\n",
              "      <td>DR Tuffey</td>\n",
              "      <td>0</td>\n",
              "      <td>1</td>\n",
              "      <td>NaN</td>\n",
              "      <td>NaN</td>\n",
              "      <td>NaN</td>\n",
              "      <td>1.0</td>\n",
              "      <td>NaN</td>\n",
              "      <td>NaN</td>\n",
              "      <td>NaN</td>\n",
              "      <td>NaN</td>\n",
              "      <td>NaN</td>\n",
              "    </tr>\n",
              "    <tr>\n",
              "      <th>2</th>\n",
              "      <td>211048</td>\n",
              "      <td>2004/05</td>\n",
              "      <td>2005-02-17</td>\n",
              "      <td>Eden Park</td>\n",
              "      <td>1</td>\n",
              "      <td>0.3</td>\n",
              "      <td>Australia</td>\n",
              "      <td>New Zealand</td>\n",
              "      <td>MJ Clarke</td>\n",
              "      <td>AC Gilchrist</td>\n",
              "      <td>DR Tuffey</td>\n",
              "      <td>0</td>\n",
              "      <td>0</td>\n",
              "      <td>NaN</td>\n",
              "      <td>NaN</td>\n",
              "      <td>NaN</td>\n",
              "      <td>NaN</td>\n",
              "      <td>NaN</td>\n",
              "      <td>NaN</td>\n",
              "      <td>NaN</td>\n",
              "      <td>NaN</td>\n",
              "      <td>NaN</td>\n",
              "    </tr>\n",
              "    <tr>\n",
              "      <th>3</th>\n",
              "      <td>211048</td>\n",
              "      <td>2004/05</td>\n",
              "      <td>2005-02-17</td>\n",
              "      <td>Eden Park</td>\n",
              "      <td>1</td>\n",
              "      <td>0.4</td>\n",
              "      <td>Australia</td>\n",
              "      <td>New Zealand</td>\n",
              "      <td>MJ Clarke</td>\n",
              "      <td>AC Gilchrist</td>\n",
              "      <td>DR Tuffey</td>\n",
              "      <td>1</td>\n",
              "      <td>0</td>\n",
              "      <td>NaN</td>\n",
              "      <td>NaN</td>\n",
              "      <td>NaN</td>\n",
              "      <td>NaN</td>\n",
              "      <td>NaN</td>\n",
              "      <td>NaN</td>\n",
              "      <td>NaN</td>\n",
              "      <td>NaN</td>\n",
              "      <td>NaN</td>\n",
              "    </tr>\n",
              "    <tr>\n",
              "      <th>4</th>\n",
              "      <td>211048</td>\n",
              "      <td>2004/05</td>\n",
              "      <td>2005-02-17</td>\n",
              "      <td>Eden Park</td>\n",
              "      <td>1</td>\n",
              "      <td>0.5</td>\n",
              "      <td>Australia</td>\n",
              "      <td>New Zealand</td>\n",
              "      <td>AC Gilchrist</td>\n",
              "      <td>MJ Clarke</td>\n",
              "      <td>DR Tuffey</td>\n",
              "      <td>1</td>\n",
              "      <td>0</td>\n",
              "      <td>NaN</td>\n",
              "      <td>NaN</td>\n",
              "      <td>NaN</td>\n",
              "      <td>NaN</td>\n",
              "      <td>NaN</td>\n",
              "      <td>NaN</td>\n",
              "      <td>NaN</td>\n",
              "      <td>NaN</td>\n",
              "      <td>NaN</td>\n",
              "    </tr>\n",
              "  </tbody>\n",
              "</table>\n",
              "</div>"
            ],
            "text/plain": [
              "   match_id   season  start_date      venue  innings  ball batting_team  \\\n",
              "0    211048  2004/05  2005-02-17  Eden Park        1   0.1    Australia   \n",
              "1    211048  2004/05  2005-02-17  Eden Park        1   0.2    Australia   \n",
              "2    211048  2004/05  2005-02-17  Eden Park        1   0.3    Australia   \n",
              "3    211048  2004/05  2005-02-17  Eden Park        1   0.4    Australia   \n",
              "4    211048  2004/05  2005-02-17  Eden Park        1   0.5    Australia   \n",
              "\n",
              "  bowling_team       striker   non_striker     bowler  runs_off_bat  extras  \\\n",
              "0  New Zealand  AC Gilchrist     MJ Clarke  DR Tuffey             0       1   \n",
              "1  New Zealand  AC Gilchrist     MJ Clarke  DR Tuffey             0       1   \n",
              "2  New Zealand     MJ Clarke  AC Gilchrist  DR Tuffey             0       0   \n",
              "3  New Zealand     MJ Clarke  AC Gilchrist  DR Tuffey             1       0   \n",
              "4  New Zealand  AC Gilchrist     MJ Clarke  DR Tuffey             1       0   \n",
              "\n",
              "   wides  noballs  byes  legbyes  penalty wicket_type player_dismissed  \\\n",
              "0    1.0      NaN   NaN      NaN      NaN         NaN              NaN   \n",
              "1    NaN      NaN   NaN      1.0      NaN         NaN              NaN   \n",
              "2    NaN      NaN   NaN      NaN      NaN         NaN              NaN   \n",
              "3    NaN      NaN   NaN      NaN      NaN         NaN              NaN   \n",
              "4    NaN      NaN   NaN      NaN      NaN         NaN              NaN   \n",
              "\n",
              "   other_wicket_type  other_player_dismissed  \n",
              "0                NaN                     NaN  \n",
              "1                NaN                     NaN  \n",
              "2                NaN                     NaN  \n",
              "3                NaN                     NaN  \n",
              "4                NaN                     NaN  "
            ]
          },
          "metadata": {},
          "execution_count": 224
        }
      ]
    },
    {
      "cell_type": "code",
      "metadata": {
        "colab": {
          "base_uri": "https://localhost:8080/",
          "height": 206
        },
        "id": "hQrJsXwxU6pp",
        "outputId": "ac4588f6-f161-418e-99ae-f04bf154e4f8"
      },
      "source": [
        "df3.head(5)"
      ],
      "execution_count": 225,
      "outputs": [
        {
          "output_type": "execute_result",
          "data": {
            "text/html": [
              "<div>\n",
              "<style scoped>\n",
              "    .dataframe tbody tr th:only-of-type {\n",
              "        vertical-align: middle;\n",
              "    }\n",
              "\n",
              "    .dataframe tbody tr th {\n",
              "        vertical-align: top;\n",
              "    }\n",
              "\n",
              "    .dataframe thead th {\n",
              "        text-align: right;\n",
              "    }\n",
              "</style>\n",
              "<table border=\"1\" class=\"dataframe\">\n",
              "  <thead>\n",
              "    <tr style=\"text-align: right;\">\n",
              "      <th></th>\n",
              "      <th>team1</th>\n",
              "      <th>runs</th>\n",
              "      <th>Inn</th>\n",
              "      <th>overs</th>\n",
              "      <th>rpo</th>\n",
              "      <th>Date</th>\n",
              "      <th>result</th>\n",
              "      <th>team2</th>\n",
              "      <th>Ground</th>\n",
              "    </tr>\n",
              "  </thead>\n",
              "  <tbody>\n",
              "    <tr>\n",
              "      <th>0</th>\n",
              "      <td>Australia</td>\n",
              "      <td>240</td>\n",
              "      <td>1</td>\n",
              "      <td>50.0</td>\n",
              "      <td>4.80</td>\n",
              "      <td>6 Jan 1985</td>\n",
              "      <td>lost</td>\n",
              "      <td>West Indies</td>\n",
              "      <td>Melbourne</td>\n",
              "    </tr>\n",
              "    <tr>\n",
              "      <th>1</th>\n",
              "      <td>West Indies</td>\n",
              "      <td>241</td>\n",
              "      <td>2</td>\n",
              "      <td>44.5</td>\n",
              "      <td>5.37</td>\n",
              "      <td>6 Jan 1985</td>\n",
              "      <td>won</td>\n",
              "      <td>Australia</td>\n",
              "      <td>Melbourne</td>\n",
              "    </tr>\n",
              "    <tr>\n",
              "      <th>2</th>\n",
              "      <td>Sri Lanka</td>\n",
              "      <td>239</td>\n",
              "      <td>1</td>\n",
              "      <td>49.0</td>\n",
              "      <td>4.87</td>\n",
              "      <td>8 Jan 1985</td>\n",
              "      <td>lost</td>\n",
              "      <td>Australia</td>\n",
              "      <td>Sydney</td>\n",
              "    </tr>\n",
              "    <tr>\n",
              "      <th>3</th>\n",
              "      <td>Australia</td>\n",
              "      <td>240</td>\n",
              "      <td>2</td>\n",
              "      <td>46.2</td>\n",
              "      <td>5.17</td>\n",
              "      <td>8 Jan 1985</td>\n",
              "      <td>won</td>\n",
              "      <td>Sri Lanka</td>\n",
              "      <td>Sydney</td>\n",
              "    </tr>\n",
              "    <tr>\n",
              "      <th>4</th>\n",
              "      <td>Sri Lanka</td>\n",
              "      <td>197</td>\n",
              "      <td>1</td>\n",
              "      <td>50.0</td>\n",
              "      <td>3.94</td>\n",
              "      <td>10 Jan 1985</td>\n",
              "      <td>lost</td>\n",
              "      <td>West Indies</td>\n",
              "      <td>Hobart</td>\n",
              "    </tr>\n",
              "  </tbody>\n",
              "</table>\n",
              "</div>"
            ],
            "text/plain": [
              "         team1  runs  Inn  overs   rpo         Date result        team2  \\\n",
              "0    Australia   240    1   50.0  4.80   6 Jan 1985   lost  West Indies   \n",
              "1  West Indies   241    2   44.5  5.37   6 Jan 1985    won    Australia   \n",
              "2    Sri Lanka   239    1   49.0  4.87   8 Jan 1985   lost    Australia   \n",
              "3    Australia   240    2   46.2  5.17   8 Jan 1985    won    Sri Lanka   \n",
              "4    Sri Lanka   197    1   50.0  3.94  10 Jan 1985   lost  West Indies   \n",
              "\n",
              "      Ground  \n",
              "0  Melbourne  \n",
              "1  Melbourne  \n",
              "2     Sydney  \n",
              "3     Sydney  \n",
              "4     Hobart  "
            ]
          },
          "metadata": {},
          "execution_count": 225
        }
      ]
    },
    {
      "cell_type": "markdown",
      "metadata": {
        "id": "MWCRNUYFg7yr"
      },
      "source": [
        "# **Data Pre-processing**"
      ]
    },
    {
      "cell_type": "code",
      "metadata": {
        "id": "635QHqGJhDl5"
      },
      "source": [
        "#Sort a data frame by \"start_date\", \"match_id\", \"innings\", \"ball\n",
        "#df1 = df1.sort_values(by = [\"start_date\", \"match_id\", \"innings\", \"ball\" ],axis = 0,ascending = [True, True, True, True])"
      ],
      "execution_count": null,
      "outputs": []
    },
    {
      "cell_type": "code",
      "metadata": {
        "id": "e2X-oQSShJUP"
      },
      "source": [
        "#Sort a data frame by \"start_date\", \"match_id\", \"innings\", \"ball\n",
        "#df2 = df2.sort_values(by = [\"start_date\", \"match_id\", \"innings\", \"ball\" ],axis = 0,ascending = [True, True, True, True])"
      ],
      "execution_count": null,
      "outputs": []
    },
    {
      "cell_type": "code",
      "metadata": {
        "id": "DUuQlkj2W3mh"
      },
      "source": [
        "#Keep only first innings of each ODI match\n",
        "df1 = df1[df1.innings == 1]"
      ],
      "execution_count": 124,
      "outputs": []
    },
    {
      "cell_type": "code",
      "metadata": {
        "colab": {
          "base_uri": "https://localhost:8080/"
        },
        "id": "WVEqL8r4XK2G",
        "outputId": "bff1b550-7425-44f6-b643-44ef4482d28b"
      },
      "source": [
        "df1['batting_team'].unique()"
      ],
      "execution_count": null,
      "outputs": [
        {
          "output_type": "execute_result",
          "data": {
            "text/plain": [
              "array(['Pakistan', 'New Zealand', 'Australia', 'India', 'Zimbabwe',\n",
              "       'South Africa', 'West Indies', 'Sri Lanka', 'Bangladesh',\n",
              "       'England', 'United States of America', 'Kenya', 'Africa XI',\n",
              "       'Asia XI', 'ICC World XI', 'Ireland', 'Bermuda', 'Canada',\n",
              "       'Netherlands', 'Scotland', 'United Arab Emirates', 'Hong Kong',\n",
              "       'Afghanistan', 'Papua New Guinea', 'Nepal', 'Namibia', 'Oman'],\n",
              "      dtype=object)"
            ]
          },
          "metadata": {},
          "execution_count": 10
        }
      ]
    },
    {
      "cell_type": "code",
      "metadata": {
        "id": "aZDa6ZKrXTdy"
      },
      "source": [
        "#Keep only consistent 12 teams\n",
        "top12_teams = ['Australia', 'England', 'South Africa', 'West Indies', 'Sri Lanka','New Zealand',\n",
        "             'Pakistan', 'India', 'Bangladesh', 'Zimbabwe', 'Ireland', 'Afghanistan']\n",
        "\n",
        "df1 = df1[(df1['batting_team'].isin(top12_teams)) & (df1['bowling_team'].isin(top12_teams))]"
      ],
      "execution_count": null,
      "outputs": []
    },
    {
      "cell_type": "markdown",
      "metadata": {
        "id": "X0SyPxEXYe_r"
      },
      "source": [
        "# **Generate new columns**"
      ]
    },
    {
      "cell_type": "code",
      "metadata": {
        "id": "olyIAlFnYhct"
      },
      "source": [
        "sum_runs_off_bat_extras = df1[\"runs_off_bat\"] + df1[\"extras\"]\n",
        "\n",
        "df1[\"runs\"] = sum_runs_off_bat_extras"
      ],
      "execution_count": 226,
      "outputs": []
    },
    {
      "cell_type": "code",
      "metadata": {
        "id": "50XmI9pNZUh3"
      },
      "source": [
        "gr1 = df1.groupby(df1.ball.eq(0.1).cumsum())\n",
        "df1[\"current_run\"] = gr1.runs.cumsum()\n",
        "df1[\"total_runs\"] = gr1.current_run.transform(\"max\")"
      ],
      "execution_count": 227,
      "outputs": []
    },
    {
      "cell_type": "code",
      "metadata": {
        "id": "O-NmYi6sculD"
      },
      "source": [
        "df1['striker_run'] = df1.groupby(['match_id', 'striker'])['runs_off_bat'].cumsum()"
      ],
      "execution_count": 228,
      "outputs": []
    },
    {
      "cell_type": "code",
      "metadata": {
        "id": "1yFLcCd7czIQ"
      },
      "source": [
        "m1 = df1['striker'].ne(df1['striker'].groupby(df1['match_id']).shift())\n",
        "m2 = df1['striker'].eq(df1['non_striker'].shift())\n",
        "m3 = df1['non_striker'].eq(df1['striker'].shift())\n",
        "m = m1 & (m2 | m3)\n",
        "\n",
        "df1['nonstriker_run'] = np.where(m, df1['striker_run'].shift(), np.nan)\n",
        "\n",
        "\n",
        "m21 = df1['non_striker'] != df1['non_striker'].shift()\n",
        "m22 = df1['non_striker'] != df1['striker'].shift()\n",
        "df1['nonstriker_run'] = np.where(m21 & m22, 0, df1['nonstriker_run'])\n",
        "\n",
        "m11 = df1['match_id'] != df1['match_id'].shift()\n",
        "df1['nonstriker_run'] = np.where(m11, 0, df1['nonstriker_run'])\n",
        "\n",
        "df1['nonstriker_run'] = df1['nonstriker_run'].ffill(downcast='infer')"
      ],
      "execution_count": 230,
      "outputs": []
    },
    {
      "cell_type": "code",
      "metadata": {
        "id": "Vb_f46yndQMs"
      },
      "source": [
        "df1['wicket']=(df1['wicket_type'].ne('retired hurt') & df1['wicket_type'].notna()).groupby(df1['match_id']).cumsum()"
      ],
      "execution_count": 334,
      "outputs": []
    },
    {
      "cell_type": "code",
      "metadata": {
        "id": "1qI6wrzrhyGz"
      },
      "source": [
        "df1['runs_last10'] = df1.groupby('match_id',sort=False)['runs'].rolling(min_periods=1, window=60).sum().astype(\"int64\").values"
      ],
      "execution_count": 232,
      "outputs": []
    },
    {
      "cell_type": "code",
      "metadata": {
        "id": "KqajO9vyiGfv"
      },
      "source": [
        "df1['wicket_last10'] = ((df1['wicket_type'].ne('retired hurt') & df1['wicket_type'].notna())\n",
        "                      .groupby(df1['match_id'],sort=False)\n",
        "                      .rolling(min_periods=1, window=60).sum().astype(\"int64\")\n",
        "                      .values)"
      ],
      "execution_count": 233,
      "outputs": []
    },
    {
      "cell_type": "markdown",
      "metadata": {
        "id": "897p9RHSir0x"
      },
      "source": [
        "# **Data cleaning**"
      ]
    },
    {
      "cell_type": "code",
      "metadata": {
        "colab": {
          "base_uri": "https://localhost:8080/"
        },
        "id": "yUsjCJkBit0y",
        "outputId": "d4f088d5-773a-4f68-f4bd-788be2323e23"
      },
      "source": [
        "df1.isnull().sum()"
      ],
      "execution_count": 134,
      "outputs": [
        {
          "output_type": "execute_result",
          "data": {
            "text/plain": [
              "match_id                 0\n",
              "season                   0\n",
              "start_date               0\n",
              "venue                    0\n",
              "innings                  0\n",
              "ball                     0\n",
              "batting_team             0\n",
              "bowling_team             0\n",
              "current_run              0\n",
              "wicket                   0\n",
              "striker                  0\n",
              "non_striker              0\n",
              "bowler                   0\n",
              "striker_run              0\n",
              "nonstriker_run           0\n",
              "wicket_type         547102\n",
              "player_dismissed    547102\n",
              "extras                   0\n",
              "wides               549732\n",
              "noballs             560240\n",
              "byes                561593\n",
              "legbyes             556671\n",
              "penalty             562434\n",
              "runs_last10              0\n",
              "wicket_last10            0\n",
              "total_runs               0\n",
              "dtype: int64"
            ]
          },
          "metadata": {},
          "execution_count": 134
        }
      ]
    },
    {
      "cell_type": "code",
      "metadata": {
        "id": "YPwjr07gi1HG"
      },
      "source": [
        "#Drop unnecessary coulumns that don't have noticible impact on total runs\n",
        "df1 = df1[['match_id','season','start_date','venue','innings','ball','batting_team','bowling_team','runs_off_bat','runs','current_run','wicket',\n",
        "           'striker','non_striker','bowler','striker_run','nonstriker_run','wicket_type','player_dismissed','extras','wides',\n",
        "           'noballs','byes','legbyes','penalty','runs_last10','wicket_last10','total_runs']]"
      ],
      "execution_count": 234,
      "outputs": []
    },
    {
      "cell_type": "markdown",
      "metadata": {
        "id": "cHkp-0X_iyF5"
      },
      "source": [
        "# **Exploratory data analysis(EDA)**"
      ]
    },
    {
      "cell_type": "code",
      "metadata": {
        "colab": {
          "base_uri": "https://localhost:8080/",
          "height": 313
        },
        "id": "v3NaB3dbeOSJ",
        "outputId": "054dcfa4-27f0-4599-eaaa-79085266ab32"
      },
      "source": [
        "df1.head(5)"
      ],
      "execution_count": 235,
      "outputs": [
        {
          "output_type": "execute_result",
          "data": {
            "text/html": [
              "<div>\n",
              "<style scoped>\n",
              "    .dataframe tbody tr th:only-of-type {\n",
              "        vertical-align: middle;\n",
              "    }\n",
              "\n",
              "    .dataframe tbody tr th {\n",
              "        vertical-align: top;\n",
              "    }\n",
              "\n",
              "    .dataframe thead th {\n",
              "        text-align: right;\n",
              "    }\n",
              "</style>\n",
              "<table border=\"1\" class=\"dataframe\">\n",
              "  <thead>\n",
              "    <tr style=\"text-align: right;\">\n",
              "      <th></th>\n",
              "      <th>match_id</th>\n",
              "      <th>season</th>\n",
              "      <th>start_date</th>\n",
              "      <th>venue</th>\n",
              "      <th>innings</th>\n",
              "      <th>ball</th>\n",
              "      <th>batting_team</th>\n",
              "      <th>bowling_team</th>\n",
              "      <th>runs_off_bat</th>\n",
              "      <th>runs</th>\n",
              "      <th>current_run</th>\n",
              "      <th>wicket</th>\n",
              "      <th>striker</th>\n",
              "      <th>non_striker</th>\n",
              "      <th>bowler</th>\n",
              "      <th>striker_run</th>\n",
              "      <th>nonstriker_run</th>\n",
              "      <th>wicket_type</th>\n",
              "      <th>player_dismissed</th>\n",
              "      <th>extras</th>\n",
              "      <th>wides</th>\n",
              "      <th>noballs</th>\n",
              "      <th>byes</th>\n",
              "      <th>legbyes</th>\n",
              "      <th>penalty</th>\n",
              "      <th>runs_last10</th>\n",
              "      <th>wicket_last10</th>\n",
              "      <th>total_runs</th>\n",
              "    </tr>\n",
              "  </thead>\n",
              "  <tbody>\n",
              "    <tr>\n",
              "      <th>0</th>\n",
              "      <td>64857</td>\n",
              "      <td>2003/04</td>\n",
              "      <td>2004-01-03</td>\n",
              "      <td>Eden Park</td>\n",
              "      <td>1</td>\n",
              "      <td>0.1</td>\n",
              "      <td>Pakistan</td>\n",
              "      <td>New Zealand</td>\n",
              "      <td>4</td>\n",
              "      <td>4</td>\n",
              "      <td>4</td>\n",
              "      <td>0</td>\n",
              "      <td>Yasir Hameed</td>\n",
              "      <td>Imran Farhat</td>\n",
              "      <td>DR Tuffey</td>\n",
              "      <td>4</td>\n",
              "      <td>0</td>\n",
              "      <td>NaN</td>\n",
              "      <td>NaN</td>\n",
              "      <td>0</td>\n",
              "      <td>NaN</td>\n",
              "      <td>NaN</td>\n",
              "      <td>NaN</td>\n",
              "      <td>NaN</td>\n",
              "      <td>NaN</td>\n",
              "      <td>4</td>\n",
              "      <td>0</td>\n",
              "      <td>229</td>\n",
              "    </tr>\n",
              "    <tr>\n",
              "      <th>1</th>\n",
              "      <td>64857</td>\n",
              "      <td>2003/04</td>\n",
              "      <td>2004-01-03</td>\n",
              "      <td>Eden Park</td>\n",
              "      <td>1</td>\n",
              "      <td>0.2</td>\n",
              "      <td>Pakistan</td>\n",
              "      <td>New Zealand</td>\n",
              "      <td>0</td>\n",
              "      <td>0</td>\n",
              "      <td>4</td>\n",
              "      <td>0</td>\n",
              "      <td>Yasir Hameed</td>\n",
              "      <td>Imran Farhat</td>\n",
              "      <td>DR Tuffey</td>\n",
              "      <td>4</td>\n",
              "      <td>0</td>\n",
              "      <td>NaN</td>\n",
              "      <td>NaN</td>\n",
              "      <td>0</td>\n",
              "      <td>NaN</td>\n",
              "      <td>NaN</td>\n",
              "      <td>NaN</td>\n",
              "      <td>NaN</td>\n",
              "      <td>NaN</td>\n",
              "      <td>4</td>\n",
              "      <td>0</td>\n",
              "      <td>229</td>\n",
              "    </tr>\n",
              "    <tr>\n",
              "      <th>2</th>\n",
              "      <td>64857</td>\n",
              "      <td>2003/04</td>\n",
              "      <td>2004-01-03</td>\n",
              "      <td>Eden Park</td>\n",
              "      <td>1</td>\n",
              "      <td>0.3</td>\n",
              "      <td>Pakistan</td>\n",
              "      <td>New Zealand</td>\n",
              "      <td>0</td>\n",
              "      <td>0</td>\n",
              "      <td>4</td>\n",
              "      <td>0</td>\n",
              "      <td>Yasir Hameed</td>\n",
              "      <td>Imran Farhat</td>\n",
              "      <td>DR Tuffey</td>\n",
              "      <td>4</td>\n",
              "      <td>0</td>\n",
              "      <td>NaN</td>\n",
              "      <td>NaN</td>\n",
              "      <td>0</td>\n",
              "      <td>NaN</td>\n",
              "      <td>NaN</td>\n",
              "      <td>NaN</td>\n",
              "      <td>NaN</td>\n",
              "      <td>NaN</td>\n",
              "      <td>4</td>\n",
              "      <td>0</td>\n",
              "      <td>229</td>\n",
              "    </tr>\n",
              "    <tr>\n",
              "      <th>3</th>\n",
              "      <td>64857</td>\n",
              "      <td>2003/04</td>\n",
              "      <td>2004-01-03</td>\n",
              "      <td>Eden Park</td>\n",
              "      <td>1</td>\n",
              "      <td>0.4</td>\n",
              "      <td>Pakistan</td>\n",
              "      <td>New Zealand</td>\n",
              "      <td>0</td>\n",
              "      <td>0</td>\n",
              "      <td>4</td>\n",
              "      <td>0</td>\n",
              "      <td>Yasir Hameed</td>\n",
              "      <td>Imran Farhat</td>\n",
              "      <td>DR Tuffey</td>\n",
              "      <td>4</td>\n",
              "      <td>0</td>\n",
              "      <td>NaN</td>\n",
              "      <td>NaN</td>\n",
              "      <td>0</td>\n",
              "      <td>NaN</td>\n",
              "      <td>NaN</td>\n",
              "      <td>NaN</td>\n",
              "      <td>NaN</td>\n",
              "      <td>NaN</td>\n",
              "      <td>4</td>\n",
              "      <td>0</td>\n",
              "      <td>229</td>\n",
              "    </tr>\n",
              "    <tr>\n",
              "      <th>4</th>\n",
              "      <td>64857</td>\n",
              "      <td>2003/04</td>\n",
              "      <td>2004-01-03</td>\n",
              "      <td>Eden Park</td>\n",
              "      <td>1</td>\n",
              "      <td>0.5</td>\n",
              "      <td>Pakistan</td>\n",
              "      <td>New Zealand</td>\n",
              "      <td>0</td>\n",
              "      <td>0</td>\n",
              "      <td>4</td>\n",
              "      <td>0</td>\n",
              "      <td>Yasir Hameed</td>\n",
              "      <td>Imran Farhat</td>\n",
              "      <td>DR Tuffey</td>\n",
              "      <td>4</td>\n",
              "      <td>0</td>\n",
              "      <td>NaN</td>\n",
              "      <td>NaN</td>\n",
              "      <td>0</td>\n",
              "      <td>NaN</td>\n",
              "      <td>NaN</td>\n",
              "      <td>NaN</td>\n",
              "      <td>NaN</td>\n",
              "      <td>NaN</td>\n",
              "      <td>4</td>\n",
              "      <td>0</td>\n",
              "      <td>229</td>\n",
              "    </tr>\n",
              "  </tbody>\n",
              "</table>\n",
              "</div>"
            ],
            "text/plain": [
              "   match_id   season  start_date      venue  innings  ball batting_team  \\\n",
              "0     64857  2003/04  2004-01-03  Eden Park        1   0.1     Pakistan   \n",
              "1     64857  2003/04  2004-01-03  Eden Park        1   0.2     Pakistan   \n",
              "2     64857  2003/04  2004-01-03  Eden Park        1   0.3     Pakistan   \n",
              "3     64857  2003/04  2004-01-03  Eden Park        1   0.4     Pakistan   \n",
              "4     64857  2003/04  2004-01-03  Eden Park        1   0.5     Pakistan   \n",
              "\n",
              "  bowling_team  runs_off_bat  runs  current_run  wicket       striker  \\\n",
              "0  New Zealand             4     4            4       0  Yasir Hameed   \n",
              "1  New Zealand             0     0            4       0  Yasir Hameed   \n",
              "2  New Zealand             0     0            4       0  Yasir Hameed   \n",
              "3  New Zealand             0     0            4       0  Yasir Hameed   \n",
              "4  New Zealand             0     0            4       0  Yasir Hameed   \n",
              "\n",
              "    non_striker     bowler  striker_run  nonstriker_run wicket_type  \\\n",
              "0  Imran Farhat  DR Tuffey            4               0         NaN   \n",
              "1  Imran Farhat  DR Tuffey            4               0         NaN   \n",
              "2  Imran Farhat  DR Tuffey            4               0         NaN   \n",
              "3  Imran Farhat  DR Tuffey            4               0         NaN   \n",
              "4  Imran Farhat  DR Tuffey            4               0         NaN   \n",
              "\n",
              "  player_dismissed  extras  wides  noballs  byes  legbyes  penalty  \\\n",
              "0              NaN       0    NaN      NaN   NaN      NaN      NaN   \n",
              "1              NaN       0    NaN      NaN   NaN      NaN      NaN   \n",
              "2              NaN       0    NaN      NaN   NaN      NaN      NaN   \n",
              "3              NaN       0    NaN      NaN   NaN      NaN      NaN   \n",
              "4              NaN       0    NaN      NaN   NaN      NaN      NaN   \n",
              "\n",
              "   runs_last10  wicket_last10  total_runs  \n",
              "0            4              0         229  \n",
              "1            4              0         229  \n",
              "2            4              0         229  \n",
              "3            4              0         229  \n",
              "4            4              0         229  "
            ]
          },
          "metadata": {},
          "execution_count": 235
        }
      ]
    },
    {
      "cell_type": "code",
      "metadata": {
        "colab": {
          "base_uri": "https://localhost:8080/"
        },
        "id": "FioztruDi3rw",
        "outputId": "e9059482-0a30-42dc-d610-da574c9449b2"
      },
      "source": [
        "df1.info()"
      ],
      "execution_count": 321,
      "outputs": [
        {
          "output_type": "stream",
          "name": "stdout",
          "text": [
            "<class 'pandas.core.frame.DataFrame'>\n",
            "RangeIndex: 1036710 entries, 0 to 1036709\n",
            "Data columns (total 28 columns):\n",
            " #   Column            Non-Null Count    Dtype  \n",
            "---  ------            --------------    -----  \n",
            " 0   match_id          1036710 non-null  int64  \n",
            " 1   season            1036710 non-null  object \n",
            " 2   start_date        1036710 non-null  object \n",
            " 3   venue             1036710 non-null  object \n",
            " 4   innings           1036710 non-null  int64  \n",
            " 5   ball              1036710 non-null  float64\n",
            " 6   batting_team      1036710 non-null  object \n",
            " 7   bowling_team      1036710 non-null  object \n",
            " 8   runs_off_bat      1036710 non-null  int64  \n",
            " 9   runs              1036710 non-null  int64  \n",
            " 10  current_run       1036710 non-null  int64  \n",
            " 11  wicket            1036710 non-null  int64  \n",
            " 12  striker           1036710 non-null  object \n",
            " 13  non_striker       1036710 non-null  object \n",
            " 14  bowler            1036710 non-null  object \n",
            " 15  striker_run       1036710 non-null  int64  \n",
            " 16  nonstriker_run    1036710 non-null  int64  \n",
            " 17  wicket_type       28071 non-null    object \n",
            " 18  player_dismissed  28071 non-null    object \n",
            " 19  extras            1036710 non-null  int64  \n",
            " 20  wides             23555 non-null    float64\n",
            " 21  noballs           4017 non-null     float64\n",
            " 22  byes              1511 non-null     float64\n",
            " 23  legbyes           10667 non-null    float64\n",
            " 24  penalty           11 non-null       float64\n",
            " 25  runs_last10       1036710 non-null  int64  \n",
            " 26  wicket_last10     1036710 non-null  int64  \n",
            " 27  total_runs        1036710 non-null  int64  \n",
            "dtypes: float64(6), int64(12), object(10)\n",
            "memory usage: 221.5+ MB\n"
          ]
        }
      ]
    },
    {
      "cell_type": "code",
      "metadata": {
        "colab": {
          "base_uri": "https://localhost:8080/",
          "height": 320
        },
        "id": "eMA0KGR7jBJt",
        "outputId": "6e49ba51-509b-41d8-933f-be388655e377"
      },
      "source": [
        "df1.describe().apply(lambda s: s.apply(lambda x: format(x, 'g')))"
      ],
      "execution_count": 335,
      "outputs": [
        {
          "output_type": "execute_result",
          "data": {
            "text/html": [
              "<div>\n",
              "<style scoped>\n",
              "    .dataframe tbody tr th:only-of-type {\n",
              "        vertical-align: middle;\n",
              "    }\n",
              "\n",
              "    .dataframe tbody tr th {\n",
              "        vertical-align: top;\n",
              "    }\n",
              "\n",
              "    .dataframe thead th {\n",
              "        text-align: right;\n",
              "    }\n",
              "</style>\n",
              "<table border=\"1\" class=\"dataframe\">\n",
              "  <thead>\n",
              "    <tr style=\"text-align: right;\">\n",
              "      <th></th>\n",
              "      <th>match_id</th>\n",
              "      <th>innings</th>\n",
              "      <th>ball</th>\n",
              "      <th>runs_off_bat</th>\n",
              "      <th>runs</th>\n",
              "      <th>current_run</th>\n",
              "      <th>wicket</th>\n",
              "      <th>striker_run</th>\n",
              "      <th>nonstriker_run</th>\n",
              "      <th>extras</th>\n",
              "      <th>wides</th>\n",
              "      <th>noballs</th>\n",
              "      <th>byes</th>\n",
              "      <th>legbyes</th>\n",
              "      <th>penalty</th>\n",
              "      <th>runs_last10</th>\n",
              "      <th>wicket_last10</th>\n",
              "      <th>total_runs</th>\n",
              "    </tr>\n",
              "  </thead>\n",
              "  <tbody>\n",
              "    <tr>\n",
              "      <th>count</th>\n",
              "      <td>1.03671e+06</td>\n",
              "      <td>1.03671e+06</td>\n",
              "      <td>1.03671e+06</td>\n",
              "      <td>1.03671e+06</td>\n",
              "      <td>1.03671e+06</td>\n",
              "      <td>1.03671e+06</td>\n",
              "      <td>1.03671e+06</td>\n",
              "      <td>1.03671e+06</td>\n",
              "      <td>1.03671e+06</td>\n",
              "      <td>1.03671e+06</td>\n",
              "      <td>23555</td>\n",
              "      <td>4017</td>\n",
              "      <td>1511</td>\n",
              "      <td>10667</td>\n",
              "      <td>11</td>\n",
              "      <td>1.03671e+06</td>\n",
              "      <td>1.03671e+06</td>\n",
              "      <td>1.03671e+06</td>\n",
              "    </tr>\n",
              "    <tr>\n",
              "      <th>mean</th>\n",
              "      <td>651399</td>\n",
              "      <td>1.4575</td>\n",
              "      <td>22.688</td>\n",
              "      <td>0.793645</td>\n",
              "      <td>0.842157</td>\n",
              "      <td>109.693</td>\n",
              "      <td>6.55451</td>\n",
              "      <td>23.1189</td>\n",
              "      <td>22.7924</td>\n",
              "      <td>0.0485121</td>\n",
              "      <td>1.20454</td>\n",
              "      <td>1.04132</td>\n",
              "      <td>2.045</td>\n",
              "      <td>1.36796</td>\n",
              "      <td>5</td>\n",
              "      <td>47.1781</td>\n",
              "      <td>1.44796</td>\n",
              "      <td>238.054</td>\n",
              "    </tr>\n",
              "    <tr>\n",
              "      <th>std</th>\n",
              "      <td>363613</td>\n",
              "      <td>0.498269</td>\n",
              "      <td>13.8239</td>\n",
              "      <td>1.25459</td>\n",
              "      <td>1.26079</td>\n",
              "      <td>74.3373</td>\n",
              "      <td>4.67727</td>\n",
              "      <td>24.435</td>\n",
              "      <td>24.1362</td>\n",
              "      <td>0.292962</td>\n",
              "      <td>0.795101</td>\n",
              "      <td>0.343965</td>\n",
              "      <td>1.31394</td>\n",
              "      <td>0.881757</td>\n",
              "      <td>0</td>\n",
              "      <td>18.6549</td>\n",
              "      <td>1.30589</td>\n",
              "      <td>62.8737</td>\n",
              "    </tr>\n",
              "    <tr>\n",
              "      <th>min</th>\n",
              "      <td>64857</td>\n",
              "      <td>1</td>\n",
              "      <td>0.1</td>\n",
              "      <td>0</td>\n",
              "      <td>0</td>\n",
              "      <td>0</td>\n",
              "      <td>0</td>\n",
              "      <td>0</td>\n",
              "      <td>0</td>\n",
              "      <td>0</td>\n",
              "      <td>1</td>\n",
              "      <td>1</td>\n",
              "      <td>1</td>\n",
              "      <td>1</td>\n",
              "      <td>5</td>\n",
              "      <td>0</td>\n",
              "      <td>0</td>\n",
              "      <td>0</td>\n",
              "    </tr>\n",
              "    <tr>\n",
              "      <th>25%</th>\n",
              "      <td>343733</td>\n",
              "      <td>1</td>\n",
              "      <td>10.6</td>\n",
              "      <td>0</td>\n",
              "      <td>0</td>\n",
              "      <td>49</td>\n",
              "      <td>2</td>\n",
              "      <td>5</td>\n",
              "      <td>4</td>\n",
              "      <td>0</td>\n",
              "      <td>1</td>\n",
              "      <td>1</td>\n",
              "      <td>1</td>\n",
              "      <td>1</td>\n",
              "      <td>5</td>\n",
              "      <td>36</td>\n",
              "      <td>0</td>\n",
              "      <td>198</td>\n",
              "    </tr>\n",
              "    <tr>\n",
              "      <th>50%</th>\n",
              "      <td>567372</td>\n",
              "      <td>1</td>\n",
              "      <td>22.1</td>\n",
              "      <td>0</td>\n",
              "      <td>0</td>\n",
              "      <td>100</td>\n",
              "      <td>6</td>\n",
              "      <td>15</td>\n",
              "      <td>15</td>\n",
              "      <td>0</td>\n",
              "      <td>1</td>\n",
              "      <td>1</td>\n",
              "      <td>1</td>\n",
              "      <td>1</td>\n",
              "      <td>5</td>\n",
              "      <td>47</td>\n",
              "      <td>1</td>\n",
              "      <td>240</td>\n",
              "    </tr>\n",
              "    <tr>\n",
              "      <th>75%</th>\n",
              "      <td>1.03022e+06</td>\n",
              "      <td>2</td>\n",
              "      <td>34.2</td>\n",
              "      <td>1</td>\n",
              "      <td>1</td>\n",
              "      <td>161</td>\n",
              "      <td>10</td>\n",
              "      <td>34</td>\n",
              "      <td>34</td>\n",
              "      <td>0</td>\n",
              "      <td>1</td>\n",
              "      <td>1</td>\n",
              "      <td>4</td>\n",
              "      <td>1</td>\n",
              "      <td>5</td>\n",
              "      <td>58</td>\n",
              "      <td>2</td>\n",
              "      <td>280</td>\n",
              "    </tr>\n",
              "    <tr>\n",
              "      <th>max</th>\n",
              "      <td>1.29088e+06</td>\n",
              "      <td>4</td>\n",
              "      <td>49.9</td>\n",
              "      <td>7</td>\n",
              "      <td>7</td>\n",
              "      <td>481</td>\n",
              "      <td>20</td>\n",
              "      <td>264</td>\n",
              "      <td>264</td>\n",
              "      <td>6</td>\n",
              "      <td>5</td>\n",
              "      <td>5</td>\n",
              "      <td>4</td>\n",
              "      <td>5</td>\n",
              "      <td>5</td>\n",
              "      <td>181</td>\n",
              "      <td>11</td>\n",
              "      <td>481</td>\n",
              "    </tr>\n",
              "  </tbody>\n",
              "</table>\n",
              "</div>"
            ],
            "text/plain": [
              "          match_id      innings         ball runs_off_bat         runs  \\\n",
              "count  1.03671e+06  1.03671e+06  1.03671e+06  1.03671e+06  1.03671e+06   \n",
              "mean        651399       1.4575       22.688     0.793645     0.842157   \n",
              "std         363613     0.498269      13.8239      1.25459      1.26079   \n",
              "min          64857            1          0.1            0            0   \n",
              "25%         343733            1         10.6            0            0   \n",
              "50%         567372            1         22.1            0            0   \n",
              "75%    1.03022e+06            2         34.2            1            1   \n",
              "max    1.29088e+06            4         49.9            7            7   \n",
              "\n",
              "       current_run       wicket  striker_run nonstriker_run       extras  \\\n",
              "count  1.03671e+06  1.03671e+06  1.03671e+06    1.03671e+06  1.03671e+06   \n",
              "mean       109.693      6.55451      23.1189        22.7924    0.0485121   \n",
              "std        74.3373      4.67727       24.435        24.1362     0.292962   \n",
              "min              0            0            0              0            0   \n",
              "25%             49            2            5              4            0   \n",
              "50%            100            6           15             15            0   \n",
              "75%            161           10           34             34            0   \n",
              "max            481           20          264            264            6   \n",
              "\n",
              "          wides   noballs     byes   legbyes penalty  runs_last10  \\\n",
              "count     23555      4017     1511     10667      11  1.03671e+06   \n",
              "mean    1.20454   1.04132    2.045   1.36796       5      47.1781   \n",
              "std    0.795101  0.343965  1.31394  0.881757       0      18.6549   \n",
              "min           1         1        1         1       5            0   \n",
              "25%           1         1        1         1       5           36   \n",
              "50%           1         1        1         1       5           47   \n",
              "75%           1         1        4         1       5           58   \n",
              "max           5         5        4         5       5          181   \n",
              "\n",
              "      wicket_last10   total_runs  \n",
              "count   1.03671e+06  1.03671e+06  \n",
              "mean        1.44796      238.054  \n",
              "std         1.30589      62.8737  \n",
              "min               0            0  \n",
              "25%               0          198  \n",
              "50%               1          240  \n",
              "75%               2          280  \n",
              "max              11          481  "
            ]
          },
          "metadata": {},
          "execution_count": 335
        }
      ]
    },
    {
      "cell_type": "code",
      "metadata": {
        "colab": {
          "base_uri": "https://localhost:8080/",
          "height": 414
        },
        "id": "DF0G-sKqCBSi",
        "outputId": "cc7311a9-c3bb-44aa-b10a-b3b8962ff9de"
      },
      "source": [
        "df1.loc[df1['wicket_type'] == 'obstructing the field']"
      ],
      "execution_count": 333,
      "outputs": [
        {
          "output_type": "execute_result",
          "data": {
            "text/html": [
              "<div>\n",
              "<style scoped>\n",
              "    .dataframe tbody tr th:only-of-type {\n",
              "        vertical-align: middle;\n",
              "    }\n",
              "\n",
              "    .dataframe tbody tr th {\n",
              "        vertical-align: top;\n",
              "    }\n",
              "\n",
              "    .dataframe thead th {\n",
              "        text-align: right;\n",
              "    }\n",
              "</style>\n",
              "<table border=\"1\" class=\"dataframe\">\n",
              "  <thead>\n",
              "    <tr style=\"text-align: right;\">\n",
              "      <th></th>\n",
              "      <th>match_id</th>\n",
              "      <th>season</th>\n",
              "      <th>start_date</th>\n",
              "      <th>venue</th>\n",
              "      <th>innings</th>\n",
              "      <th>ball</th>\n",
              "      <th>batting_team</th>\n",
              "      <th>bowling_team</th>\n",
              "      <th>runs_off_bat</th>\n",
              "      <th>runs</th>\n",
              "      <th>current_run</th>\n",
              "      <th>wicket</th>\n",
              "      <th>striker</th>\n",
              "      <th>non_striker</th>\n",
              "      <th>bowler</th>\n",
              "      <th>striker_run</th>\n",
              "      <th>nonstriker_run</th>\n",
              "      <th>wicket_type</th>\n",
              "      <th>player_dismissed</th>\n",
              "      <th>extras</th>\n",
              "      <th>wides</th>\n",
              "      <th>noballs</th>\n",
              "      <th>byes</th>\n",
              "      <th>legbyes</th>\n",
              "      <th>penalty</th>\n",
              "      <th>runs_last10</th>\n",
              "      <th>wicket_last10</th>\n",
              "      <th>total_runs</th>\n",
              "    </tr>\n",
              "  </thead>\n",
              "  <tbody>\n",
              "    <tr>\n",
              "      <th>85316</th>\n",
              "      <td>235831</td>\n",
              "      <td>2005/06</td>\n",
              "      <td>2006-02-06</td>\n",
              "      <td>Arbab Niaz Stadium</td>\n",
              "      <td>2</td>\n",
              "      <td>43.2</td>\n",
              "      <td>Pakistan</td>\n",
              "      <td>India</td>\n",
              "      <td>0</td>\n",
              "      <td>0</td>\n",
              "      <td>289</td>\n",
              "      <td>15</td>\n",
              "      <td>Inzamam-ul-Haq</td>\n",
              "      <td>Younis Khan</td>\n",
              "      <td>S Sreesanth</td>\n",
              "      <td>16</td>\n",
              "      <td>12</td>\n",
              "      <td>obstructing the field</td>\n",
              "      <td>Inzamam-ul-Haq</td>\n",
              "      <td>0</td>\n",
              "      <td>NaN</td>\n",
              "      <td>NaN</td>\n",
              "      <td>NaN</td>\n",
              "      <td>NaN</td>\n",
              "      <td>NaN</td>\n",
              "      <td>63</td>\n",
              "      <td>4</td>\n",
              "      <td>311</td>\n",
              "    </tr>\n",
              "    <tr>\n",
              "      <th>528802</th>\n",
              "      <td>567371</td>\n",
              "      <td>2012/13</td>\n",
              "      <td>2013-03-21</td>\n",
              "      <td>Kingsmead</td>\n",
              "      <td>2</td>\n",
              "      <td>1.3</td>\n",
              "      <td>Pakistan</td>\n",
              "      <td>South Africa</td>\n",
              "      <td>1</td>\n",
              "      <td>1</td>\n",
              "      <td>2</td>\n",
              "      <td>9</td>\n",
              "      <td>Imran Farhat</td>\n",
              "      <td>Mohammad Hafeez</td>\n",
              "      <td>LL Tsotsobe</td>\n",
              "      <td>1</td>\n",
              "      <td>0</td>\n",
              "      <td>obstructing the field</td>\n",
              "      <td>Mohammad Hafeez</td>\n",
              "      <td>0</td>\n",
              "      <td>NaN</td>\n",
              "      <td>NaN</td>\n",
              "      <td>NaN</td>\n",
              "      <td>NaN</td>\n",
              "      <td>NaN</td>\n",
              "      <td>57</td>\n",
              "      <td>3</td>\n",
              "      <td>236</td>\n",
              "    </tr>\n",
              "    <tr>\n",
              "      <th>572134</th>\n",
              "      <td>685733</td>\n",
              "      <td>2013/14</td>\n",
              "      <td>2013-11-27</td>\n",
              "      <td>St George's Park</td>\n",
              "      <td>1</td>\n",
              "      <td>44.3</td>\n",
              "      <td>Pakistan</td>\n",
              "      <td>South Africa</td>\n",
              "      <td>0</td>\n",
              "      <td>0</td>\n",
              "      <td>261</td>\n",
              "      <td>7</td>\n",
              "      <td>Anwar Ali</td>\n",
              "      <td>Umar Akmal</td>\n",
              "      <td>DW Steyn</td>\n",
              "      <td>7</td>\n",
              "      <td>42</td>\n",
              "      <td>obstructing the field</td>\n",
              "      <td>Anwar Ali</td>\n",
              "      <td>0</td>\n",
              "      <td>NaN</td>\n",
              "      <td>NaN</td>\n",
              "      <td>NaN</td>\n",
              "      <td>NaN</td>\n",
              "      <td>NaN</td>\n",
              "      <td>82</td>\n",
              "      <td>4</td>\n",
              "      <td>262</td>\n",
              "    </tr>\n",
              "    <tr>\n",
              "      <th>697236</th>\n",
              "      <td>743979</td>\n",
              "      <td>2015</td>\n",
              "      <td>2015-09-05</td>\n",
              "      <td>Lord's</td>\n",
              "      <td>2</td>\n",
              "      <td>25.4</td>\n",
              "      <td>England</td>\n",
              "      <td>Australia</td>\n",
              "      <td>0</td>\n",
              "      <td>0</td>\n",
              "      <td>141</td>\n",
              "      <td>10</td>\n",
              "      <td>BA Stokes</td>\n",
              "      <td>EJG Morgan</td>\n",
              "      <td>MA Starc</td>\n",
              "      <td>10</td>\n",
              "      <td>27</td>\n",
              "      <td>obstructing the field</td>\n",
              "      <td>BA Stokes</td>\n",
              "      <td>0</td>\n",
              "      <td>NaN</td>\n",
              "      <td>NaN</td>\n",
              "      <td>NaN</td>\n",
              "      <td>NaN</td>\n",
              "      <td>NaN</td>\n",
              "      <td>54</td>\n",
              "      <td>2</td>\n",
              "      <td>245</td>\n",
              "    </tr>\n",
              "    <tr>\n",
              "      <th>971662</th>\n",
              "      <td>1206059</td>\n",
              "      <td>2019/20</td>\n",
              "      <td>2019-12-08</td>\n",
              "      <td>Sharjah Cricket Stadium</td>\n",
              "      <td>2</td>\n",
              "      <td>21.2</td>\n",
              "      <td>United States of America</td>\n",
              "      <td>United Arab Emirates</td>\n",
              "      <td>0</td>\n",
              "      <td>0</td>\n",
              "      <td>82</td>\n",
              "      <td>12</td>\n",
              "      <td>Aaron Jones</td>\n",
              "      <td>XM Marshall</td>\n",
              "      <td>Rohan Mustafa</td>\n",
              "      <td>36</td>\n",
              "      <td>34</td>\n",
              "      <td>obstructing the field</td>\n",
              "      <td>XM Marshall</td>\n",
              "      <td>0</td>\n",
              "      <td>NaN</td>\n",
              "      <td>NaN</td>\n",
              "      <td>NaN</td>\n",
              "      <td>NaN</td>\n",
              "      <td>NaN</td>\n",
              "      <td>44</td>\n",
              "      <td>1</td>\n",
              "      <td>206</td>\n",
              "    </tr>\n",
              "    <tr>\n",
              "      <th>1004623</th>\n",
              "      <td>1252069</td>\n",
              "      <td>2020/21</td>\n",
              "      <td>2021-03-10</td>\n",
              "      <td>Sir Vivian Richards Stadium</td>\n",
              "      <td>1</td>\n",
              "      <td>21.1</td>\n",
              "      <td>Sri Lanka</td>\n",
              "      <td>West Indies</td>\n",
              "      <td>0</td>\n",
              "      <td>0</td>\n",
              "      <td>112</td>\n",
              "      <td>1</td>\n",
              "      <td>MD Gunathilaka</td>\n",
              "      <td>P Nissanka</td>\n",
              "      <td>KA Pollard</td>\n",
              "      <td>55</td>\n",
              "      <td>1</td>\n",
              "      <td>obstructing the field</td>\n",
              "      <td>MD Gunathilaka</td>\n",
              "      <td>0</td>\n",
              "      <td>NaN</td>\n",
              "      <td>NaN</td>\n",
              "      <td>NaN</td>\n",
              "      <td>NaN</td>\n",
              "      <td>NaN</td>\n",
              "      <td>49</td>\n",
              "      <td>2</td>\n",
              "      <td>232</td>\n",
              "    </tr>\n",
              "  </tbody>\n",
              "</table>\n",
              "</div>"
            ],
            "text/plain": [
              "         match_id   season  start_date                        venue  innings  \\\n",
              "85316      235831  2005/06  2006-02-06           Arbab Niaz Stadium        2   \n",
              "528802     567371  2012/13  2013-03-21                    Kingsmead        2   \n",
              "572134     685733  2013/14  2013-11-27             St George's Park        1   \n",
              "697236     743979     2015  2015-09-05                       Lord's        2   \n",
              "971662    1206059  2019/20  2019-12-08      Sharjah Cricket Stadium        2   \n",
              "1004623   1252069  2020/21  2021-03-10  Sir Vivian Richards Stadium        1   \n",
              "\n",
              "         ball              batting_team          bowling_team  runs_off_bat  \\\n",
              "85316    43.2                  Pakistan                 India             0   \n",
              "528802    1.3                  Pakistan          South Africa             1   \n",
              "572134   44.3                  Pakistan          South Africa             0   \n",
              "697236   25.4                   England             Australia             0   \n",
              "971662   21.2  United States of America  United Arab Emirates             0   \n",
              "1004623  21.1                 Sri Lanka           West Indies             0   \n",
              "\n",
              "         runs  current_run  wicket         striker      non_striker  \\\n",
              "85316       0          289      15  Inzamam-ul-Haq      Younis Khan   \n",
              "528802      1            2       9    Imran Farhat  Mohammad Hafeez   \n",
              "572134      0          261       7       Anwar Ali       Umar Akmal   \n",
              "697236      0          141      10       BA Stokes       EJG Morgan   \n",
              "971662      0           82      12     Aaron Jones      XM Marshall   \n",
              "1004623     0          112       1  MD Gunathilaka       P Nissanka   \n",
              "\n",
              "                bowler  striker_run  nonstriker_run            wicket_type  \\\n",
              "85316      S Sreesanth           16              12  obstructing the field   \n",
              "528802     LL Tsotsobe            1               0  obstructing the field   \n",
              "572134        DW Steyn            7              42  obstructing the field   \n",
              "697236        MA Starc           10              27  obstructing the field   \n",
              "971662   Rohan Mustafa           36              34  obstructing the field   \n",
              "1004623     KA Pollard           55               1  obstructing the field   \n",
              "\n",
              "        player_dismissed  extras  wides  noballs  byes  legbyes  penalty  \\\n",
              "85316     Inzamam-ul-Haq       0    NaN      NaN   NaN      NaN      NaN   \n",
              "528802   Mohammad Hafeez       0    NaN      NaN   NaN      NaN      NaN   \n",
              "572134         Anwar Ali       0    NaN      NaN   NaN      NaN      NaN   \n",
              "697236         BA Stokes       0    NaN      NaN   NaN      NaN      NaN   \n",
              "971662       XM Marshall       0    NaN      NaN   NaN      NaN      NaN   \n",
              "1004623   MD Gunathilaka       0    NaN      NaN   NaN      NaN      NaN   \n",
              "\n",
              "         runs_last10  wicket_last10  total_runs  \n",
              "85316             63              4         311  \n",
              "528802            57              3         236  \n",
              "572134            82              4         262  \n",
              "697236            54              2         245  \n",
              "971662            44              1         206  \n",
              "1004623           49              2         232  "
            ]
          },
          "metadata": {},
          "execution_count": 333
        }
      ]
    },
    {
      "cell_type": "code",
      "metadata": {
        "colab": {
          "base_uri": "https://localhost:8080/",
          "height": 634
        },
        "id": "vkU6jaTBkCi6",
        "outputId": "fbd977e1-1f41-4ba7-f5b3-a16f2031c96d"
      },
      "source": [
        "df1.corr()"
      ],
      "execution_count": 336,
      "outputs": [
        {
          "output_type": "execute_result",
          "data": {
            "text/html": [
              "<div>\n",
              "<style scoped>\n",
              "    .dataframe tbody tr th:only-of-type {\n",
              "        vertical-align: middle;\n",
              "    }\n",
              "\n",
              "    .dataframe tbody tr th {\n",
              "        vertical-align: top;\n",
              "    }\n",
              "\n",
              "    .dataframe thead th {\n",
              "        text-align: right;\n",
              "    }\n",
              "</style>\n",
              "<table border=\"1\" class=\"dataframe\">\n",
              "  <thead>\n",
              "    <tr style=\"text-align: right;\">\n",
              "      <th></th>\n",
              "      <th>match_id</th>\n",
              "      <th>innings</th>\n",
              "      <th>ball</th>\n",
              "      <th>runs_off_bat</th>\n",
              "      <th>runs</th>\n",
              "      <th>current_run</th>\n",
              "      <th>wicket</th>\n",
              "      <th>striker_run</th>\n",
              "      <th>nonstriker_run</th>\n",
              "      <th>extras</th>\n",
              "      <th>wides</th>\n",
              "      <th>noballs</th>\n",
              "      <th>byes</th>\n",
              "      <th>legbyes</th>\n",
              "      <th>penalty</th>\n",
              "      <th>runs_last10</th>\n",
              "      <th>wicket_last10</th>\n",
              "      <th>total_runs</th>\n",
              "    </tr>\n",
              "  </thead>\n",
              "  <tbody>\n",
              "    <tr>\n",
              "      <th>match_id</th>\n",
              "      <td>1.000000</td>\n",
              "      <td>0.002633</td>\n",
              "      <td>0.004468</td>\n",
              "      <td>0.021389</td>\n",
              "      <td>0.017365</td>\n",
              "      <td>0.040553</td>\n",
              "      <td>0.002507</td>\n",
              "      <td>0.042887</td>\n",
              "      <td>0.039314</td>\n",
              "      <td>-0.016861</td>\n",
              "      <td>-0.028233</td>\n",
              "      <td>-0.017409</td>\n",
              "      <td>0.040897</td>\n",
              "      <td>0.013688</td>\n",
              "      <td>NaN</td>\n",
              "      <td>0.066867</td>\n",
              "      <td>0.002726</td>\n",
              "      <td>0.095118</td>\n",
              "    </tr>\n",
              "    <tr>\n",
              "      <th>innings</th>\n",
              "      <td>0.002633</td>\n",
              "      <td>1.000000</td>\n",
              "      <td>-0.089698</td>\n",
              "      <td>-0.006237</td>\n",
              "      <td>-0.005570</td>\n",
              "      <td>-0.059574</td>\n",
              "      <td>0.831793</td>\n",
              "      <td>-0.025148</td>\n",
              "      <td>-0.023973</td>\n",
              "      <td>0.002741</td>\n",
              "      <td>0.012647</td>\n",
              "      <td>-0.007337</td>\n",
              "      <td>0.141298</td>\n",
              "      <td>0.029682</td>\n",
              "      <td>NaN</td>\n",
              "      <td>0.218764</td>\n",
              "      <td>0.208480</td>\n",
              "      <td>-0.250783</td>\n",
              "    </tr>\n",
              "    <tr>\n",
              "      <th>ball</th>\n",
              "      <td>0.004468</td>\n",
              "      <td>-0.089698</td>\n",
              "      <td>1.000000</td>\n",
              "      <td>0.096850</td>\n",
              "      <td>0.095423</td>\n",
              "      <td>0.932742</td>\n",
              "      <td>0.286593</td>\n",
              "      <td>0.341422</td>\n",
              "      <td>0.341639</td>\n",
              "      <td>-0.004091</td>\n",
              "      <td>0.021653</td>\n",
              "      <td>0.040517</td>\n",
              "      <td>-0.227045</td>\n",
              "      <td>-0.116044</td>\n",
              "      <td>NaN</td>\n",
              "      <td>0.302815</td>\n",
              "      <td>0.008494</td>\n",
              "      <td>0.168284</td>\n",
              "    </tr>\n",
              "    <tr>\n",
              "      <th>runs_off_bat</th>\n",
              "      <td>0.021389</td>\n",
              "      <td>-0.006237</td>\n",
              "      <td>0.096850</td>\n",
              "      <td>1.000000</td>\n",
              "      <td>0.972882</td>\n",
              "      <td>0.142315</td>\n",
              "      <td>-0.004523</td>\n",
              "      <td>0.171868</td>\n",
              "      <td>0.059324</td>\n",
              "      <td>-0.095523</td>\n",
              "      <td>NaN</td>\n",
              "      <td>-0.074072</td>\n",
              "      <td>NaN</td>\n",
              "      <td>NaN</td>\n",
              "      <td>NaN</td>\n",
              "      <td>0.181680</td>\n",
              "      <td>-0.053399</td>\n",
              "      <td>0.109798</td>\n",
              "    </tr>\n",
              "    <tr>\n",
              "      <th>runs</th>\n",
              "      <td>0.017365</td>\n",
              "      <td>-0.005570</td>\n",
              "      <td>0.095423</td>\n",
              "      <td>0.972882</td>\n",
              "      <td>1.000000</td>\n",
              "      <td>0.142232</td>\n",
              "      <td>-0.004117</td>\n",
              "      <td>0.167946</td>\n",
              "      <td>0.056399</td>\n",
              "      <td>0.137311</td>\n",
              "      <td>0.999162</td>\n",
              "      <td>0.166569</td>\n",
              "      <td>0.998294</td>\n",
              "      <td>0.999880</td>\n",
              "      <td>NaN</td>\n",
              "      <td>0.184328</td>\n",
              "      <td>-0.050831</td>\n",
              "      <td>0.108996</td>\n",
              "    </tr>\n",
              "    <tr>\n",
              "      <th>current_run</th>\n",
              "      <td>0.040553</td>\n",
              "      <td>-0.059574</td>\n",
              "      <td>0.932742</td>\n",
              "      <td>0.142315</td>\n",
              "      <td>0.142232</td>\n",
              "      <td>1.000000</td>\n",
              "      <td>0.232616</td>\n",
              "      <td>0.413256</td>\n",
              "      <td>0.405312</td>\n",
              "      <td>0.002659</td>\n",
              "      <td>0.028117</td>\n",
              "      <td>0.058531</td>\n",
              "      <td>-0.227581</td>\n",
              "      <td>-0.098634</td>\n",
              "      <td>NaN</td>\n",
              "      <td>0.479433</td>\n",
              "      <td>-0.011779</td>\n",
              "      <td>0.349031</td>\n",
              "    </tr>\n",
              "    <tr>\n",
              "      <th>wicket</th>\n",
              "      <td>0.002507</td>\n",
              "      <td>0.831793</td>\n",
              "      <td>0.286593</td>\n",
              "      <td>-0.004523</td>\n",
              "      <td>-0.004117</td>\n",
              "      <td>0.232616</td>\n",
              "      <td>1.000000</td>\n",
              "      <td>-0.029937</td>\n",
              "      <td>-0.027760</td>\n",
              "      <td>0.001649</td>\n",
              "      <td>0.018461</td>\n",
              "      <td>0.016496</td>\n",
              "      <td>0.022434</td>\n",
              "      <td>-0.011635</td>\n",
              "      <td>NaN</td>\n",
              "      <td>0.170990</td>\n",
              "      <td>0.372502</td>\n",
              "      <td>-0.349698</td>\n",
              "    </tr>\n",
              "    <tr>\n",
              "      <th>striker_run</th>\n",
              "      <td>0.042887</td>\n",
              "      <td>-0.025148</td>\n",
              "      <td>0.341422</td>\n",
              "      <td>0.171868</td>\n",
              "      <td>0.167946</td>\n",
              "      <td>0.413256</td>\n",
              "      <td>-0.029937</td>\n",
              "      <td>1.000000</td>\n",
              "      <td>0.173125</td>\n",
              "      <td>-0.013235</td>\n",
              "      <td>0.015850</td>\n",
              "      <td>-0.007097</td>\n",
              "      <td>-0.029130</td>\n",
              "      <td>-0.059041</td>\n",
              "      <td>NaN</td>\n",
              "      <td>0.353654</td>\n",
              "      <td>-0.357650</td>\n",
              "      <td>0.285860</td>\n",
              "    </tr>\n",
              "    <tr>\n",
              "      <th>nonstriker_run</th>\n",
              "      <td>0.039314</td>\n",
              "      <td>-0.023973</td>\n",
              "      <td>0.341639</td>\n",
              "      <td>0.059324</td>\n",
              "      <td>0.056399</td>\n",
              "      <td>0.405312</td>\n",
              "      <td>-0.027760</td>\n",
              "      <td>0.173125</td>\n",
              "      <td>1.000000</td>\n",
              "      <td>-0.011331</td>\n",
              "      <td>0.017624</td>\n",
              "      <td>0.010226</td>\n",
              "      <td>-0.079763</td>\n",
              "      <td>-0.051388</td>\n",
              "      <td>NaN</td>\n",
              "      <td>0.330740</td>\n",
              "      <td>-0.357503</td>\n",
              "      <td>0.275384</td>\n",
              "    </tr>\n",
              "    <tr>\n",
              "      <th>extras</th>\n",
              "      <td>-0.016861</td>\n",
              "      <td>0.002741</td>\n",
              "      <td>-0.004091</td>\n",
              "      <td>-0.095523</td>\n",
              "      <td>0.137311</td>\n",
              "      <td>0.002659</td>\n",
              "      <td>0.001649</td>\n",
              "      <td>-0.013235</td>\n",
              "      <td>-0.011331</td>\n",
              "      <td>1.000000</td>\n",
              "      <td>0.999162</td>\n",
              "      <td>0.917544</td>\n",
              "      <td>0.998294</td>\n",
              "      <td>0.999880</td>\n",
              "      <td>NaN</td>\n",
              "      <td>0.015243</td>\n",
              "      <td>0.009918</td>\n",
              "      <td>-0.001127</td>\n",
              "    </tr>\n",
              "    <tr>\n",
              "      <th>wides</th>\n",
              "      <td>-0.028233</td>\n",
              "      <td>0.012647</td>\n",
              "      <td>0.021653</td>\n",
              "      <td>NaN</td>\n",
              "      <td>0.999162</td>\n",
              "      <td>0.028117</td>\n",
              "      <td>0.018461</td>\n",
              "      <td>0.015850</td>\n",
              "      <td>0.017624</td>\n",
              "      <td>0.999162</td>\n",
              "      <td>1.000000</td>\n",
              "      <td>NaN</td>\n",
              "      <td>NaN</td>\n",
              "      <td>NaN</td>\n",
              "      <td>NaN</td>\n",
              "      <td>0.044559</td>\n",
              "      <td>-0.003933</td>\n",
              "      <td>0.004382</td>\n",
              "    </tr>\n",
              "    <tr>\n",
              "      <th>noballs</th>\n",
              "      <td>-0.017409</td>\n",
              "      <td>-0.007337</td>\n",
              "      <td>0.040517</td>\n",
              "      <td>-0.074072</td>\n",
              "      <td>0.166569</td>\n",
              "      <td>0.058531</td>\n",
              "      <td>0.016496</td>\n",
              "      <td>-0.007097</td>\n",
              "      <td>0.010226</td>\n",
              "      <td>0.917544</td>\n",
              "      <td>NaN</td>\n",
              "      <td>1.000000</td>\n",
              "      <td>NaN</td>\n",
              "      <td>NaN</td>\n",
              "      <td>NaN</td>\n",
              "      <td>0.041154</td>\n",
              "      <td>0.023253</td>\n",
              "      <td>0.017682</td>\n",
              "    </tr>\n",
              "    <tr>\n",
              "      <th>byes</th>\n",
              "      <td>0.040897</td>\n",
              "      <td>0.141298</td>\n",
              "      <td>-0.227045</td>\n",
              "      <td>NaN</td>\n",
              "      <td>0.998294</td>\n",
              "      <td>-0.227581</td>\n",
              "      <td>0.022434</td>\n",
              "      <td>-0.029130</td>\n",
              "      <td>-0.079763</td>\n",
              "      <td>0.998294</td>\n",
              "      <td>NaN</td>\n",
              "      <td>NaN</td>\n",
              "      <td>1.000000</td>\n",
              "      <td>NaN</td>\n",
              "      <td>NaN</td>\n",
              "      <td>-0.071488</td>\n",
              "      <td>-0.049957</td>\n",
              "      <td>-0.106841</td>\n",
              "    </tr>\n",
              "    <tr>\n",
              "      <th>legbyes</th>\n",
              "      <td>0.013688</td>\n",
              "      <td>0.029682</td>\n",
              "      <td>-0.116044</td>\n",
              "      <td>NaN</td>\n",
              "      <td>0.999880</td>\n",
              "      <td>-0.098634</td>\n",
              "      <td>-0.011635</td>\n",
              "      <td>-0.059041</td>\n",
              "      <td>-0.051388</td>\n",
              "      <td>0.999880</td>\n",
              "      <td>NaN</td>\n",
              "      <td>NaN</td>\n",
              "      <td>NaN</td>\n",
              "      <td>1.000000</td>\n",
              "      <td>NaN</td>\n",
              "      <td>-0.010129</td>\n",
              "      <td>0.003323</td>\n",
              "      <td>-0.027133</td>\n",
              "    </tr>\n",
              "    <tr>\n",
              "      <th>penalty</th>\n",
              "      <td>NaN</td>\n",
              "      <td>NaN</td>\n",
              "      <td>NaN</td>\n",
              "      <td>NaN</td>\n",
              "      <td>NaN</td>\n",
              "      <td>NaN</td>\n",
              "      <td>NaN</td>\n",
              "      <td>NaN</td>\n",
              "      <td>NaN</td>\n",
              "      <td>NaN</td>\n",
              "      <td>NaN</td>\n",
              "      <td>NaN</td>\n",
              "      <td>NaN</td>\n",
              "      <td>NaN</td>\n",
              "      <td>NaN</td>\n",
              "      <td>NaN</td>\n",
              "      <td>NaN</td>\n",
              "      <td>NaN</td>\n",
              "    </tr>\n",
              "    <tr>\n",
              "      <th>runs_last10</th>\n",
              "      <td>0.066867</td>\n",
              "      <td>0.218764</td>\n",
              "      <td>0.302815</td>\n",
              "      <td>0.181680</td>\n",
              "      <td>0.184328</td>\n",
              "      <td>0.479433</td>\n",
              "      <td>0.170990</td>\n",
              "      <td>0.353654</td>\n",
              "      <td>0.330740</td>\n",
              "      <td>0.015243</td>\n",
              "      <td>0.044559</td>\n",
              "      <td>0.041154</td>\n",
              "      <td>-0.071488</td>\n",
              "      <td>-0.010129</td>\n",
              "      <td>NaN</td>\n",
              "      <td>1.000000</td>\n",
              "      <td>0.066030</td>\n",
              "      <td>0.332728</td>\n",
              "    </tr>\n",
              "    <tr>\n",
              "      <th>wicket_last10</th>\n",
              "      <td>0.002726</td>\n",
              "      <td>0.208480</td>\n",
              "      <td>0.008494</td>\n",
              "      <td>-0.053399</td>\n",
              "      <td>-0.050831</td>\n",
              "      <td>-0.011779</td>\n",
              "      <td>0.372502</td>\n",
              "      <td>-0.357650</td>\n",
              "      <td>-0.357503</td>\n",
              "      <td>0.009918</td>\n",
              "      <td>-0.003933</td>\n",
              "      <td>0.023253</td>\n",
              "      <td>-0.049957</td>\n",
              "      <td>0.003323</td>\n",
              "      <td>NaN</td>\n",
              "      <td>0.066030</td>\n",
              "      <td>1.000000</td>\n",
              "      <td>-0.272496</td>\n",
              "    </tr>\n",
              "    <tr>\n",
              "      <th>total_runs</th>\n",
              "      <td>0.095118</td>\n",
              "      <td>-0.250783</td>\n",
              "      <td>0.168284</td>\n",
              "      <td>0.109798</td>\n",
              "      <td>0.108996</td>\n",
              "      <td>0.349031</td>\n",
              "      <td>-0.349698</td>\n",
              "      <td>0.285860</td>\n",
              "      <td>0.275384</td>\n",
              "      <td>-0.001127</td>\n",
              "      <td>0.004382</td>\n",
              "      <td>0.017682</td>\n",
              "      <td>-0.106841</td>\n",
              "      <td>-0.027133</td>\n",
              "      <td>NaN</td>\n",
              "      <td>0.332728</td>\n",
              "      <td>-0.272496</td>\n",
              "      <td>1.000000</td>\n",
              "    </tr>\n",
              "  </tbody>\n",
              "</table>\n",
              "</div>"
            ],
            "text/plain": [
              "                match_id   innings      ball  runs_off_bat      runs  \\\n",
              "match_id        1.000000  0.002633  0.004468      0.021389  0.017365   \n",
              "innings         0.002633  1.000000 -0.089698     -0.006237 -0.005570   \n",
              "ball            0.004468 -0.089698  1.000000      0.096850  0.095423   \n",
              "runs_off_bat    0.021389 -0.006237  0.096850      1.000000  0.972882   \n",
              "runs            0.017365 -0.005570  0.095423      0.972882  1.000000   \n",
              "current_run     0.040553 -0.059574  0.932742      0.142315  0.142232   \n",
              "wicket          0.002507  0.831793  0.286593     -0.004523 -0.004117   \n",
              "striker_run     0.042887 -0.025148  0.341422      0.171868  0.167946   \n",
              "nonstriker_run  0.039314 -0.023973  0.341639      0.059324  0.056399   \n",
              "extras         -0.016861  0.002741 -0.004091     -0.095523  0.137311   \n",
              "wides          -0.028233  0.012647  0.021653           NaN  0.999162   \n",
              "noballs        -0.017409 -0.007337  0.040517     -0.074072  0.166569   \n",
              "byes            0.040897  0.141298 -0.227045           NaN  0.998294   \n",
              "legbyes         0.013688  0.029682 -0.116044           NaN  0.999880   \n",
              "penalty              NaN       NaN       NaN           NaN       NaN   \n",
              "runs_last10     0.066867  0.218764  0.302815      0.181680  0.184328   \n",
              "wicket_last10   0.002726  0.208480  0.008494     -0.053399 -0.050831   \n",
              "total_runs      0.095118 -0.250783  0.168284      0.109798  0.108996   \n",
              "\n",
              "                current_run    wicket  striker_run  nonstriker_run    extras  \\\n",
              "match_id           0.040553  0.002507     0.042887        0.039314 -0.016861   \n",
              "innings           -0.059574  0.831793    -0.025148       -0.023973  0.002741   \n",
              "ball               0.932742  0.286593     0.341422        0.341639 -0.004091   \n",
              "runs_off_bat       0.142315 -0.004523     0.171868        0.059324 -0.095523   \n",
              "runs               0.142232 -0.004117     0.167946        0.056399  0.137311   \n",
              "current_run        1.000000  0.232616     0.413256        0.405312  0.002659   \n",
              "wicket             0.232616  1.000000    -0.029937       -0.027760  0.001649   \n",
              "striker_run        0.413256 -0.029937     1.000000        0.173125 -0.013235   \n",
              "nonstriker_run     0.405312 -0.027760     0.173125        1.000000 -0.011331   \n",
              "extras             0.002659  0.001649    -0.013235       -0.011331  1.000000   \n",
              "wides              0.028117  0.018461     0.015850        0.017624  0.999162   \n",
              "noballs            0.058531  0.016496    -0.007097        0.010226  0.917544   \n",
              "byes              -0.227581  0.022434    -0.029130       -0.079763  0.998294   \n",
              "legbyes           -0.098634 -0.011635    -0.059041       -0.051388  0.999880   \n",
              "penalty                 NaN       NaN          NaN             NaN       NaN   \n",
              "runs_last10        0.479433  0.170990     0.353654        0.330740  0.015243   \n",
              "wicket_last10     -0.011779  0.372502    -0.357650       -0.357503  0.009918   \n",
              "total_runs         0.349031 -0.349698     0.285860        0.275384 -0.001127   \n",
              "\n",
              "                   wides   noballs      byes   legbyes  penalty  runs_last10  \\\n",
              "match_id       -0.028233 -0.017409  0.040897  0.013688      NaN     0.066867   \n",
              "innings         0.012647 -0.007337  0.141298  0.029682      NaN     0.218764   \n",
              "ball            0.021653  0.040517 -0.227045 -0.116044      NaN     0.302815   \n",
              "runs_off_bat         NaN -0.074072       NaN       NaN      NaN     0.181680   \n",
              "runs            0.999162  0.166569  0.998294  0.999880      NaN     0.184328   \n",
              "current_run     0.028117  0.058531 -0.227581 -0.098634      NaN     0.479433   \n",
              "wicket          0.018461  0.016496  0.022434 -0.011635      NaN     0.170990   \n",
              "striker_run     0.015850 -0.007097 -0.029130 -0.059041      NaN     0.353654   \n",
              "nonstriker_run  0.017624  0.010226 -0.079763 -0.051388      NaN     0.330740   \n",
              "extras          0.999162  0.917544  0.998294  0.999880      NaN     0.015243   \n",
              "wides           1.000000       NaN       NaN       NaN      NaN     0.044559   \n",
              "noballs              NaN  1.000000       NaN       NaN      NaN     0.041154   \n",
              "byes                 NaN       NaN  1.000000       NaN      NaN    -0.071488   \n",
              "legbyes              NaN       NaN       NaN  1.000000      NaN    -0.010129   \n",
              "penalty              NaN       NaN       NaN       NaN      NaN          NaN   \n",
              "runs_last10     0.044559  0.041154 -0.071488 -0.010129      NaN     1.000000   \n",
              "wicket_last10  -0.003933  0.023253 -0.049957  0.003323      NaN     0.066030   \n",
              "total_runs      0.004382  0.017682 -0.106841 -0.027133      NaN     0.332728   \n",
              "\n",
              "                wicket_last10  total_runs  \n",
              "match_id             0.002726    0.095118  \n",
              "innings              0.208480   -0.250783  \n",
              "ball                 0.008494    0.168284  \n",
              "runs_off_bat        -0.053399    0.109798  \n",
              "runs                -0.050831    0.108996  \n",
              "current_run         -0.011779    0.349031  \n",
              "wicket               0.372502   -0.349698  \n",
              "striker_run         -0.357650    0.285860  \n",
              "nonstriker_run      -0.357503    0.275384  \n",
              "extras               0.009918   -0.001127  \n",
              "wides               -0.003933    0.004382  \n",
              "noballs              0.023253    0.017682  \n",
              "byes                -0.049957   -0.106841  \n",
              "legbyes              0.003323   -0.027133  \n",
              "penalty                   NaN         NaN  \n",
              "runs_last10          0.066030    0.332728  \n",
              "wicket_last10        1.000000   -0.272496  \n",
              "total_runs          -0.272496    1.000000  "
            ]
          },
          "metadata": {},
          "execution_count": 336
        }
      ]
    },
    {
      "cell_type": "markdown",
      "metadata": {
        "id": "6WMh-tjdkY1h"
      },
      "source": [
        "# Histogram"
      ]
    },
    {
      "cell_type": "code",
      "metadata": {
        "colab": {
          "base_uri": "https://localhost:8080/",
          "height": 297
        },
        "id": "XaWWL0Wxkcdr",
        "outputId": "d3ce67f4-382a-4b81-e4c0-bcb28448b6ff"
      },
      "source": [
        "sns.distplot(df1['total_runs'], color = 'green', axlabel = 'Total Runs')"
      ],
      "execution_count": 238,
      "outputs": [
        {
          "output_type": "execute_result",
          "data": {
            "text/plain": [
              "<matplotlib.axes._subplots.AxesSubplot at 0x7f34071a6050>"
            ]
          },
          "metadata": {},
          "execution_count": 238
        },
        {
          "output_type": "display_data",
          "data": {
            "image/png": "[encoded data removed]",
            "text/plain": [
              "<Figure size 432x288 with 1 Axes>"
            ]
          },
          "metadata": {
            "needs_background": "light"
          }
        }
      ]
    },
    {
      "cell_type": "code",
      "metadata": {
        "colab": {
          "base_uri": "https://localhost:8080/",
          "height": 297
        },
        "id": "mES8faj9kk3N",
        "outputId": "5e190287-6941-4842-a7ea-3464e21af129"
      },
      "source": [
        "sns.distplot(df1['runs_last10'],color = 'blue', axlabel='Runs in last 10 overs')"
      ],
      "execution_count": 239,
      "outputs": [
        {
          "output_type": "execute_result",
          "data": {
            "text/plain": [
              "<matplotlib.axes._subplots.AxesSubplot at 0x7f340ba6aad0>"
            ]
          },
          "metadata": {},
          "execution_count": 239
        },
        {
          "output_type": "display_data",
          "data": {
            "image/png": "[encoded data removed]",
            "text/plain": [
              "<Figure size 432x288 with 1 Axes>"
            ]
          },
          "metadata": {
            "needs_background": "light"
          }
        }
      ]
    },
    {
      "cell_type": "code",
      "metadata": {
        "colab": {
          "base_uri": "https://localhost:8080/",
          "height": 297
        },
        "id": "HmNbmQ_tk1Jw",
        "outputId": "4e746f30-bdb1-491a-a7c1-f1edff87bdd2"
      },
      "source": [
        "sns.distplot(df1['wicket_last10'], color= 'red', axlabel ='wickets in last 10 overs')"
      ],
      "execution_count": 240,
      "outputs": [
        {
          "output_type": "execute_result",
          "data": {
            "text/plain": [
              "<matplotlib.axes._subplots.AxesSubplot at 0x7f340d8c7050>"
            ]
          },
          "metadata": {},
          "execution_count": 240
        },
        {
          "output_type": "display_data",
          "data": {
            "image/png": "[encoded data removed]",
            "text/plain": [
              "<Figure size 432x288 with 1 Axes>"
            ]
          },
          "metadata": {
            "needs_background": "light"
          }
        }
      ]
    },
    {
      "cell_type": "markdown",
      "metadata": {
        "id": "Kj6iSBY9kILL"
      },
      "source": [
        "# **Top 10 most played vennue**"
      ]
    },
    {
      "cell_type": "code",
      "metadata": {
        "id": "C5EiybhH5YpJ",
        "colab": {
          "base_uri": "https://localhost:8080/",
          "height": 572
        },
        "outputId": "73a4d5ac-da9c-49cc-e7cd-caa5ff4bf08a"
      },
      "source": [
        "plt.title(\"Number of top 10 most played venues since 2004\",fontsize=18,fontweight=\"bold\")\n",
        "p1 = df3.Ground.value_counts().head(10).plot(kind='barh',figsize=[20,8])\n",
        "p1.invert_yaxis()\n",
        "plt.ylabel(\"City\", size = 25)\n",
        "plt.xlabel(\"Matches\", size = 25)\n",
        "plt.xticks(size = 15)\n",
        "plt.yticks(size = 15)"
      ],
      "execution_count": 345,
      "outputs": [
        {
          "output_type": "execute_result",
          "data": {
            "text/plain": [
              "(array([0, 1, 2, 3, 4, 5, 6, 7, 8, 9]),\n",
              " <a list of 10 Text major ticklabel objects>)"
            ]
          },
          "metadata": {},
          "execution_count": 345
        },
        {
          "output_type": "display_data",
          "data": {
            "image/png": "[encoded data removed]",
            "text/plain": [
              "<Figure size 1440x576 with 1 Axes>"
            ]
          },
          "metadata": {
            "needs_background": "light"
          }
        }
      ]
    },
    {
      "cell_type": "code",
      "metadata": {
        "colab": {
          "base_uri": "https://localhost:8080/",
          "height": 570
        },
        "id": "9Gl1itx09V_s",
        "outputId": "533c4c76-4da1-4e6d-e0c3-cf3a65572c5a"
      },
      "source": [
        "plt.figure(figsize=(20,8))\n",
        "sns.countplot('team1', data = df3[df3.result=='won'], order=pd.value_counts(df3['team1']).iloc[:12].index)\n",
        "plt.title(\"Number of wins played by each team since 2004\",fontsize=18,fontweight=\"bold\")\n",
        "plt.ylabel(\"Matches won\", size = 25)\n",
        "plt.xlabel(\"Team\", size = 25)\n",
        "plt.xticks(size = 12)\n",
        "plt.yticks(size = 12)\n",
        "\n"
      ],
      "execution_count": 346,
      "outputs": [
        {
          "output_type": "execute_result",
          "data": {
            "text/plain": [
              "(array([  0., 100., 200., 300., 400., 500., 600.]),\n",
              " <a list of 7 Text major ticklabel objects>)"
            ]
          },
          "metadata": {},
          "execution_count": 346
        },
        {
          "output_type": "display_data",
          "data": {
            "image/png": "[encoded data removed]",
            "text/plain": [
              "<Figure size 1440x576 with 1 Axes>"
            ]
          },
          "metadata": {
            "needs_background": "light"
          }
        }
      ]
    },
    {
      "cell_type": "code",
      "metadata": {
        "id": "gza-8_RYkXgJ",
        "colab": {
          "base_uri": "https://localhost:8080/",
          "height": 558
        },
        "outputId": "459cb6fd-6fda-44ca-b0a5-d9926567cbcc"
      },
      "source": [
        "plt.title(\"Percentage of winning matches after scoring 300 runs or more\",fontsize=18,fontweight=\"bold\")\n",
        "df3[df3.runs >=300].result.value_counts().plot(kind='pie',autopct='%.2f%%', fontsize=14, \n",
        "                                               figsize=(9,9), shadow=True, startangle=140, legend=True, cmap='Oranges')"
      ],
      "execution_count": 309,
      "outputs": [
        {
          "output_type": "execute_result",
          "data": {
            "text/plain": [
              "<matplotlib.axes._subplots.AxesSubplot at 0x7f34083424d0>"
            ]
          },
          "metadata": {},
          "execution_count": 309
        },
        {
          "output_type": "display_data",
          "data": {
            "image/png": "[encoded data removed]",
            "text/plain": [
              "<Figure size 648x648 with 1 Axes>"
            ]
          },
          "metadata": {}
        }
      ]
    },
    {
      "cell_type": "markdown",
      "metadata": {
        "id": "OxPuX9Sm2vpL"
      },
      "source": [
        "# **Different types of dismissals**"
      ]
    },
    {
      "cell_type": "code",
      "metadata": {
        "colab": {
          "base_uri": "https://localhost:8080/",
          "height": 466
        },
        "id": "pRvKDpNXoWoa",
        "outputId": "85b107be-2bb6-4bb2-c67e-2568a5c893b8"
      },
      "source": [
        "dis=df1[df1.wicket_type.notna()].wicket_type.value_counts()\n",
        "plt.figure(figsize=(8,8))\n",
        "plt.pie(dis,autopct='%1.1f%%', startangle=160, shadow=True)\n",
        "plt.axis('equal')\n",
        "plt.legend( loc = 'right', labels=dis.index)\n",
        "plt.show()"
      ],
      "execution_count": 314,
      "outputs": [
        {
          "output_type": "display_data",
          "data": {
            "image/png": "[encoded data removed]",
            "text/plain": [
              "<Figure size 576x576 with 1 Axes>"
            ]
          },
          "metadata": {}
        }
      ]
    },
    {
      "cell_type": "code",
      "metadata": {
        "id": "drzNT-_U51J1"
      },
      "source": [
        "#Pivot Table for total runs per season of a batsman\n",
        "batsman_season=pd.pivot_table(df1,index=[\"season\"],values=[\"runs_off_bat\"],columns=['striker'],aggfunc='sum',fill_value=0)\n",
        "#batsman_season['best_season_runs']=batsman_season.max(axis=1)\n",
        "\n",
        "#batsman_season['best_season_batsman']=batsman_season.apply(lambda x:batsman_season.columns[x.argmax()],axis=1)\n",
        "batsman_season= batsman_season.agg(['idxmax','max'], axis=1).mask(lambda x: x['max'].eq(0))\n",
        "batsman_season['season'] = batsman_season.index\n",
        "\n",
        "#best_season_batsman refers to the batsman who scored the highest total runs in all the matches in a seson."
      ],
      "execution_count": 315,
      "outputs": []
    },
    {
      "cell_type": "code",
      "metadata": {
        "id": "hBIxN4KRS32d"
      },
      "source": [
        "batsman_season['idxmax']=[('2003/04 AC Gilchrist'),\n",
        "('2004 KC Sangakkara'),\n",
        "('2004/05 KP Pietersen'),\n",
        "('2005 AC Gilchrist'),\n",
        "('2005/06 KC Sangakkara'),\n",
        "('2006 RR Sarwan'),\n",
        "('2006/07  ML Hayden'),\n",
        "('2007  SR Tendulkar'),\n",
        "('2007/08 Mohammad Yousuf'),\n",
        "('2008 MS Dhoni'),\n",
        "('2008/09 V Sehwag'),\n",
        "('2009 MJ Clarke'),\n",
        "('2009/10 RT Ponting'),\n",
        "('2010 AJ Strauss'),\n",
        "('2010/11 HM Amla'),\n",
        "('2011 SR Watson'),\n",
        "('2011/12 V Kohli'),\n",
        "('2012 IR Bell'),\n",
        "('2012/13 TM Dilshan'),\n",
        "('2013 KC Sangakkara'),\n",
        "('2013/14 V Kohli'),\n",
        "('2014 F du Plessis'),\n",
        "('2014/15 KC Sangakkara'),\n",
        "('2015 KS Williamson'),\n",
        "('2015/16 RG Sharma'),\n",
        "('2016 LD Chandimal'),\n",
        "('2016/17 DA Warner'),\n",
        "('2017 V Kohli') ,\n",
        "('2017/18 V Kohli') ,\n",
        "('2018 Imam-ul-Haq'),\n",
        "('2018/19 V Kohli'),\n",
        "('2019 SD Hope'),\n",
        "('2019/20 SD Hope'),\n",
        "('2020 SW Billings'),\n",
        "('2020/21 PR Stirling'),\n",
        "('2021 JN Malan'),\n",
        "('2021/22 K Verreynne')]"
      ],
      "execution_count": 316,
      "outputs": []
    },
    {
      "cell_type": "code",
      "metadata": {
        "colab": {
          "base_uri": "https://localhost:8080/",
          "height": 567
        },
        "id": "Irbhb5gu229o",
        "outputId": "576cf96d-561a-43d2-fc29-e1d8ce7e6a7f"
      },
      "source": [
        "plt.figure(figsize=(30,8))\n",
        "sns.barplot(x=batsman_season['idxmax'], y=batsman_season['max'], hue=None, data=batsman_season)\n",
        "plt.title(\"Highest runs getter per season\",fontsize=18,fontweight=\"bold\")\n",
        "plt.ylabel(\"Runs scored\", size = 25)\n",
        "plt.xlabel(\"Year\", size = 25)\n",
        "plt.xticks(size = 10,rotation=90)\n",
        "plt.yticks(size = 15)"
      ],
      "execution_count": 318,
      "outputs": [
        {
          "output_type": "execute_result",
          "data": {
            "text/plain": [
              "(array([   0.,  200.,  400.,  600.,  800., 1000., 1200., 1400., 1600.]),\n",
              " <a list of 9 Text major ticklabel objects>)"
            ]
          },
          "metadata": {},
          "execution_count": 318
        },
        {
          "output_type": "display_data",
          "data": {
            "image/png": "[encoded data removed]",
            "text/plain": [
              "<Figure size 2160x576 with 1 Axes>"
            ]
          },
          "metadata": {
            "needs_background": "light"
          }
        }
      ]
    },
    {
      "cell_type": "code",
      "metadata": {
        "colab": {
          "base_uri": "https://localhost:8080/",
          "height": 412
        },
        "id": "aUtzzqCMdsXP",
        "outputId": "7d08b963-f8dd-4744-f746-723943ebf6b1"
      },
      "source": [
        "df1.groupby('season')['runs_off_bat'].sum().plot(kind = 'line', linewidth = 3, figsize =(15,5),color = 'blue')\n",
        "plt.title(\"Runs over the years\",fontsize= 25, fontweight = 'bold')\n",
        "plt.xlabel(\"Season\", size = 25)\n",
        "plt.ylabel(\"Total Runs Scored\", size = 25)\n",
        "plt.xticks(size = 12)\n",
        "plt.yticks(size = 12)"
      ],
      "execution_count": 317,
      "outputs": [
        {
          "output_type": "execute_result",
          "data": {
            "text/plain": [
              "(array([-10000.,      0.,  10000.,  20000.,  30000.,  40000.,  50000.,\n",
              "         60000.]), <a list of 8 Text major ticklabel objects>)"
            ]
          },
          "metadata": {},
          "execution_count": 317
        },
        {
          "output_type": "display_data",
          "data": {
            "image/png": "[encoded data removed]",
            "text/plain": [
              "<Figure size 1080x360 with 1 Axes>"
            ]
          },
          "metadata": {
            "needs_background": "light"
          }
        }
      ]
    },
    {
      "cell_type": "code",
      "metadata": {
        "colab": {
          "base_uri": "https://localhost:8080/",
          "height": 512
        },
        "id": "PwVXQoqoexaf",
        "outputId": "225b14b4-dc57-43dc-ff83-0dfb249a1d64"
      },
      "source": [
        "#let's plot the top 10 run getter so far in ODI\n",
        "df1.groupby('striker')['runs_off_bat'].sum().sort_values(ascending = False).head(10).plot(kind = 'bar', color = 'green',\n",
        "                                                                                            figsize = (15,5))\n",
        "plt.title(\"Top Run Getters of ODI since 2004\", fontsize = 20, fontweight = 'bold')\n",
        "plt.xlabel(\"Batsmen\", size = 25)\n",
        "plt.ylabel(\"Total Runs Scored\", size = 25)\n",
        "plt.xticks(size = 12)\n",
        "plt.yticks(size = 12)"
      ],
      "execution_count": 347,
      "outputs": [
        {
          "output_type": "execute_result",
          "data": {
            "text/plain": [
              "(array([    0.,  2000.,  4000.,  6000.,  8000., 10000., 12000., 14000.]),\n",
              " <a list of 8 Text major ticklabel objects>)"
            ]
          },
          "metadata": {},
          "execution_count": 347
        },
        {
          "output_type": "display_data",
          "data": {
            "image/png": "[encoded data removed]",
            "text/plain": [
              "<Figure size 1080x360 with 1 Axes>"
            ]
          },
          "metadata": {
            "needs_background": "light"
          }
        }
      ]
    },
    {
      "cell_type": "code",
      "metadata": {
        "colab": {
          "base_uri": "https://localhost:8080/",
          "height": 480
        },
        "id": "Vbqcje7mgX3V",
        "outputId": "28546abb-87df-42df-eb2a-d65f9b37885a"
      },
      "source": [
        "df1.groupby('bowler')['wicket_type'].count().sort_values(ascending = False).head(10).plot(kind = 'bar', \n",
        "                                                color = 'purple', figsize = (15,5))\n",
        "plt.title(\"Top Wicket Takers of ODI since 2004\", fontsize = 20, fontweight = 'bold')\n",
        "plt.xlabel(\"Bowler\", size = 25)\n",
        "plt.ylabel(\"Total Wickets Taken\", size = 25)\n",
        "plt.xticks(size = 12,rotation=45)\n",
        "plt.yticks(size = 12)"
      ],
      "execution_count": 344,
      "outputs": [
        {
          "output_type": "execute_result",
          "data": {
            "text/plain": [
              "(array([  0.,  50., 100., 150., 200., 250., 300., 350., 400.]),\n",
              " <a list of 9 Text major ticklabel objects>)"
            ]
          },
          "metadata": {},
          "execution_count": 344
        },
        {
          "output_type": "display_data",
          "data": {
            "image/png": "[encoded data removed]",
            "text/plain": [
              "<Figure size 1080x360 with 1 Axes>"
            ]
          },
          "metadata": {
            "needs_background": "light"
          }
        }
      ]
    },
    {
      "cell_type": "code",
      "metadata": {
        "colab": {
          "base_uri": "https://localhost:8080/",
          "height": 363
        },
        "id": "RlhpaHO2o361",
        "outputId": "9ec506d2-56e3-48ef-e2ff-ba488e5b69fa"
      },
      "source": [
        "#We will consider players who have played 10 or more seasons\n",
        "no_of_balls = pd.DataFrame(df1.groupby('striker')['ball'].count()) #total number of matches played by each batsman\n",
        "runs = pd.DataFrame(df1.groupby('striker')['runs_off_bat'].sum()) #total runs of each batsman\n",
        "seasons = pd.DataFrame(df1.groupby('striker')['season'].nunique()) #season = 1 implies played only 1 season\n",
        "\n",
        "batsman_strike_rate = pd.DataFrame({'balls':no_of_balls['ball'],'run':runs['runs_off_bat'],'season':seasons['season']})\n",
        "batsman_strike_rate.reset_index(inplace = True)\n",
        "\n",
        "batsman_strike_rate['strike_rate'] = batsman_strike_rate['run']/batsman_strike_rate['balls']*100\n",
        "highest_strike_rate = batsman_strike_rate[batsman_strike_rate.season.isin([10,12])][['season','striker','strike_rate']].sort_values(by = 'strike_rate',\n",
        "                                                                                                            ascending = False)\n",
        "\n",
        "highest_strike_rate.head(10)"
      ],
      "execution_count": 364,
      "outputs": [
        {
          "output_type": "execute_result",
          "data": {
            "text/html": [
              "<div>\n",
              "<style scoped>\n",
              "    .dataframe tbody tr th:only-of-type {\n",
              "        vertical-align: middle;\n",
              "    }\n",
              "\n",
              "    .dataframe tbody tr th {\n",
              "        vertical-align: top;\n",
              "    }\n",
              "\n",
              "    .dataframe thead th {\n",
              "        text-align: right;\n",
              "    }\n",
              "</style>\n",
              "<table border=\"1\" class=\"dataframe\">\n",
              "  <thead>\n",
              "    <tr style=\"text-align: right;\">\n",
              "      <th></th>\n",
              "      <th>season</th>\n",
              "      <th>striker</th>\n",
              "      <th>strike_rate</th>\n",
              "    </tr>\n",
              "  </thead>\n",
              "  <tbody>\n",
              "    <tr>\n",
              "      <th>42</th>\n",
              "      <td>10</td>\n",
              "      <td>AD Russell</td>\n",
              "      <td>128.447205</td>\n",
              "    </tr>\n",
              "    <tr>\n",
              "      <th>528</th>\n",
              "      <td>10</td>\n",
              "      <td>Imad Wasim</td>\n",
              "      <td>107.524537</td>\n",
              "    </tr>\n",
              "    <tr>\n",
              "      <th>749</th>\n",
              "      <td>12</td>\n",
              "      <td>LE Plunkett</td>\n",
              "      <td>106.560636</td>\n",
              "    </tr>\n",
              "    <tr>\n",
              "      <th>1138</th>\n",
              "      <td>10</td>\n",
              "      <td>Rashid Khan</td>\n",
              "      <td>101.578947</td>\n",
              "    </tr>\n",
              "    <tr>\n",
              "      <th>94</th>\n",
              "      <td>12</td>\n",
              "      <td>AU Rashid</td>\n",
              "      <td>98.947368</td>\n",
              "    </tr>\n",
              "    <tr>\n",
              "      <th>576</th>\n",
              "      <td>10</td>\n",
              "      <td>JDS Neesham</td>\n",
              "      <td>96.037464</td>\n",
              "    </tr>\n",
              "    <tr>\n",
              "      <th>38</th>\n",
              "      <td>10</td>\n",
              "      <td>AD Hales</td>\n",
              "      <td>94.077901</td>\n",
              "    </tr>\n",
              "    <tr>\n",
              "      <th>442</th>\n",
              "      <td>12</td>\n",
              "      <td>GP Swann</td>\n",
              "      <td>90.476190</td>\n",
              "    </tr>\n",
              "    <tr>\n",
              "      <th>856</th>\n",
              "      <td>12</td>\n",
              "      <td>MR Marsh</td>\n",
              "      <td>89.316239</td>\n",
              "    </tr>\n",
              "    <tr>\n",
              "      <th>348</th>\n",
              "      <td>12</td>\n",
              "      <td>DR Smith</td>\n",
              "      <td>88.181818</td>\n",
              "    </tr>\n",
              "  </tbody>\n",
              "</table>\n",
              "</div>"
            ],
            "text/plain": [
              "      season      striker  strike_rate\n",
              "42        10   AD Russell   128.447205\n",
              "528       10   Imad Wasim   107.524537\n",
              "749       12  LE Plunkett   106.560636\n",
              "1138      10  Rashid Khan   101.578947\n",
              "94        12    AU Rashid    98.947368\n",
              "576       10  JDS Neesham    96.037464\n",
              "38        10     AD Hales    94.077901\n",
              "442       12     GP Swann    90.476190\n",
              "856       12     MR Marsh    89.316239\n",
              "348       12     DR Smith    88.181818"
            ]
          },
          "metadata": {},
          "execution_count": 364
        }
      ]
    },
    {
      "cell_type": "code",
      "metadata": {
        "colab": {
          "base_uri": "https://localhost:8080/",
          "height": 552
        },
        "id": "P3qSWupUsi6I",
        "outputId": "1a3a9a75-06f5-4dfb-e626-314dd16fa034"
      },
      "source": [
        "plt.figure(figsize = (15,6))\n",
        "sns.barplot(x='striker', y='strike_rate', data = highest_strike_rate.head(10), hue = 'season')\n",
        "plt.title(\"Highest strike rates in ODI(minimum 10 seasons)\",fontsize= 30, fontweight = 'bold')\n",
        "plt.xlabel(\"Player\", size = 25)\n",
        "plt.ylabel(\"Strike Rate\", size = 25)\n",
        "plt.xticks(size = 14, rotation=90)\n",
        "plt.yticks(size = 14)"
      ],
      "execution_count": 368,
      "outputs": [
        {
          "output_type": "execute_result",
          "data": {
            "text/plain": [
              "(array([  0.,  20.,  40.,  60.,  80., 100., 120., 140.]),\n",
              " <a list of 8 Text major ticklabel objects>)"
            ]
          },
          "metadata": {},
          "execution_count": 368
        },
        {
          "output_type": "display_data",
          "data": {
            "image/png": "[encoded data removed]",
            "text/plain": [
              "<Figure size 1080x432 with 1 Axes>"
            ]
          },
          "metadata": {
            "needs_background": "light"
          }
        }
      ]
    },
    {
      "cell_type": "code",
      "metadata": {
        "colab": {
          "base_uri": "https://localhost:8080/",
          "height": 548
        },
        "id": "OW2a_RljtP1H",
        "outputId": "48678231-aee8-4493-e7b6-e20933251358"
      },
      "source": [
        "extra = df1[df1['extras']!=0]['bowler'].value_counts()[:10]\n",
        "extra.plot(kind='bar', figsize=(11,6), title='Bowlers who have bowled maximum number of Extra balls')\n",
        "\n",
        "plt.xlabel('BOWLER')\n",
        "plt.ylabel('BALLS')\n",
        "plt.show()\n",
        "\n",
        "extra = pd.DataFrame(extra)\n",
        "extra.T\n",
        "\n"
      ],
      "execution_count": 369,
      "outputs": [
        {
          "output_type": "display_data",
          "data": {
            "image/png": "[encoded data removed]",
            "text/plain": [
              "<Figure size 792x432 with 1 Axes>"
            ]
          },
          "metadata": {
            "needs_background": "light"
          }
        },
        {
          "output_type": "execute_result",
          "data": {
            "text/html": [
              "<div>\n",
              "<style scoped>\n",
              "    .dataframe tbody tr th:only-of-type {\n",
              "        vertical-align: middle;\n",
              "    }\n",
              "\n",
              "    .dataframe tbody tr th {\n",
              "        vertical-align: top;\n",
              "    }\n",
              "\n",
              "    .dataframe thead th {\n",
              "        text-align: right;\n",
              "    }\n",
              "</style>\n",
              "<table border=\"1\" class=\"dataframe\">\n",
              "  <thead>\n",
              "    <tr style=\"text-align: right;\">\n",
              "      <th></th>\n",
              "      <th>SL Malinga</th>\n",
              "      <th>MG Johnson</th>\n",
              "      <th>B Lee</th>\n",
              "      <th>JM Anderson</th>\n",
              "      <th>M Morkel</th>\n",
              "      <th>Mashrafe Mortaza</th>\n",
              "      <th>MA Starc</th>\n",
              "      <th>Shahid Afridi</th>\n",
              "      <th>DJ Bravo</th>\n",
              "      <th>Z Khan</th>\n",
              "    </tr>\n",
              "  </thead>\n",
              "  <tbody>\n",
              "    <tr>\n",
              "      <th>bowler</th>\n",
              "      <td>654</td>\n",
              "      <td>481</td>\n",
              "      <td>444</td>\n",
              "      <td>402</td>\n",
              "      <td>359</td>\n",
              "      <td>348</td>\n",
              "      <td>324</td>\n",
              "      <td>322</td>\n",
              "      <td>322</td>\n",
              "      <td>321</td>\n",
              "    </tr>\n",
              "  </tbody>\n",
              "</table>\n",
              "</div>"
            ],
            "text/plain": [
              "        SL Malinga  MG Johnson  B Lee  JM Anderson  M Morkel  \\\n",
              "bowler         654         481    444          402       359   \n",
              "\n",
              "        Mashrafe Mortaza  MA Starc  Shahid Afridi  DJ Bravo  Z Khan  \n",
              "bowler               348       324            322       322     321  "
            ]
          },
          "metadata": {},
          "execution_count": 369
        }
      ]
    }
  ]
}