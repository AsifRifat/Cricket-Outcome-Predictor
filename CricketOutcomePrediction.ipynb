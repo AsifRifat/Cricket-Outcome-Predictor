{
  "nbformat": 4,
  "nbformat_minor": 0,
  "metadata": {
    "accelerator": "GPU",
    "colab": {
      "name": "CricketOutcomePrediction.ipynb",
      "provenance": [],
      "mount_file_id": "1PIs-EopQ_KrLgJ1V-1-hjJBfcZbNTdjy",
      "authorship_tag": "ABX9TyOGlm1/PO5XzKk/GiIFr4Cu",
      "include_colab_link": true
    },
    "kernelspec": {
      "display_name": "Python 3",
      "name": "python3"
    },
    "language_info": {
      "name": "python"
    }
  },
  "cells": [
    {
      "cell_type": "markdown",
      "metadata": {
        "id": "view-in-github",
        "colab_type": "text"
      },
      "source": [
        "<a href=\"https://colab.research.google.com/github/AsifRifat/Cricket-Outcome-Predictor/blob/main/CricketOutcomePrediction.ipynb\" target=\"_parent\"><img src=\"https://colab.research.google.com/assets/colab-badge.svg\" alt=\"Open In Colab\"/></a>"
      ]
    },
    {
      "cell_type": "markdown",
      "metadata": {
        "id": "-PR9-rYDIqCI"
      },
      "source": [
        "# **Import necessary libraries**"
      ]
    },
    {
      "cell_type": "code",
      "metadata": {
        "id": "s-KU7hU2IjyN"
      },
      "source": [
        "import os\n",
        "import pandas as pd\n",
        "import numpy as np\n",
        "import glob\n",
        "import pickle\n",
        "from pandas import DataFrame\n",
        "from sklearn.model_selection import GridSearchCV\n",
        "from sklearn import metrics\n",
        "import matplotlib.pyplot as plt\n",
        "import seaborn as sns\n",
        "import warnings\n",
        "warnings.filterwarnings('ignore')"
      ],
      "execution_count": 1,
      "outputs": []
    },
    {
      "cell_type": "markdown",
      "metadata": {
        "id": "exDryfItI9m8"
      },
      "source": [
        "# **Merge all csv files of ODI matches**"
      ]
    },
    {
      "cell_type": "code",
      "metadata": {
        "id": "YP7d1PZkI5X-"
      },
      "source": [
        "extension = 'csv'\n",
        "all_filenames = [i for i in glob.glob('*.{}'.format(extension))]"
      ],
      "execution_count": null,
      "outputs": []
    },
    {
      "cell_type": "code",
      "metadata": {
        "colab": {
          "background_save": true
        },
        "id": "nRfyu7xraXkn"
      },
      "source": [
        "#combine all files in the list\n",
        "combined_csv = pd.concat([pd.read_csv(f) for f in all_filenames ])\n",
        "#export to csv\n",
        "combined_csv.to_csv( \"odi.csv\", index=False)"
      ],
      "execution_count": null,
      "outputs": []
    },
    {
      "cell_type": "markdown",
      "metadata": {
        "id": "eHmm5CBwJs4e"
      },
      "source": [
        "# **Import Dataset ODI and T20I**"
      ]
    },
    {
      "cell_type": "code",
      "metadata": {
        "colab": {
          "base_uri": "https://localhost:8080/"
        },
        "id": "VNuhg42SJ1Tv",
        "outputId": "2d4d0d05-132d-4fc3-829c-14cc16869ee3"
      },
      "source": [
        "%cd /content/drive/My\\ Drive/cricket data"
      ],
      "execution_count": 4,
      "outputs": [
        {
          "output_type": "stream",
          "name": "stdout",
          "text": [
            "/content/drive/My Drive/cricket data\n"
          ]
        }
      ]
    },
    {
      "cell_type": "code",
      "metadata": {
        "id": "2VBradoBfJwQ"
      },
      "source": [
        "df1 = pd.read_csv(\"odi.csv\")"
      ],
      "execution_count": 5,
      "outputs": []
    },
    {
      "cell_type": "code",
      "metadata": {
        "id": "RYZOyWHUfR-2"
      },
      "source": [
        "df2 = pd.read_csv(\"t20.csv\")"
      ],
      "execution_count": 6,
      "outputs": []
    },
    {
      "cell_type": "code",
      "metadata": {
        "colab": {
          "base_uri": "https://localhost:8080/",
          "height": 487
        },
        "id": "mrzEfp1jffRj",
        "outputId": "ae4becbb-5859-42ef-cce5-7a3d91c0d5bf"
      },
      "source": [
        "pd.set_option(\"display.max_rows\", None, \"display.max_columns\", None)\n",
        "df1.head(5)"
      ],
      "execution_count": 9,
      "outputs": [
        {
          "output_type": "execute_result",
          "data": {
            "text/html": [
              "<div>\n",
              "<style scoped>\n",
              "    .dataframe tbody tr th:only-of-type {\n",
              "        vertical-align: middle;\n",
              "    }\n",
              "\n",
              "    .dataframe tbody tr th {\n",
              "        vertical-align: top;\n",
              "    }\n",
              "\n",
              "    .dataframe thead th {\n",
              "        text-align: right;\n",
              "    }\n",
              "</style>\n",
              "<table border=\"1\" class=\"dataframe\">\n",
              "  <thead>\n",
              "    <tr style=\"text-align: right;\">\n",
              "      <th></th>\n",
              "      <th>match_id</th>\n",
              "      <th>season</th>\n",
              "      <th>start_date</th>\n",
              "      <th>venue</th>\n",
              "      <th>innings</th>\n",
              "      <th>ball</th>\n",
              "      <th>batting_team</th>\n",
              "      <th>bowling_team</th>\n",
              "      <th>striker</th>\n",
              "      <th>non_striker</th>\n",
              "      <th>bowler</th>\n",
              "      <th>runs_off_bat</th>\n",
              "      <th>extras</th>\n",
              "      <th>wides</th>\n",
              "      <th>noballs</th>\n",
              "      <th>byes</th>\n",
              "      <th>legbyes</th>\n",
              "      <th>penalty</th>\n",
              "      <th>wicket_type</th>\n",
              "      <th>player_dismissed</th>\n",
              "      <th>other_wicket_type</th>\n",
              "      <th>other_player_dismissed</th>\n",
              "    </tr>\n",
              "  </thead>\n",
              "  <tbody>\n",
              "    <tr>\n",
              "      <th>0</th>\n",
              "      <td>1000887</td>\n",
              "      <td>2016/17</td>\n",
              "      <td>2017-01-13</td>\n",
              "      <td>Brisbane Cricket Ground, Woolloongabba</td>\n",
              "      <td>1</td>\n",
              "      <td>0.1</td>\n",
              "      <td>Australia</td>\n",
              "      <td>Pakistan</td>\n",
              "      <td>DA Warner</td>\n",
              "      <td>TM Head</td>\n",
              "      <td>Mohammad Amir</td>\n",
              "      <td>0</td>\n",
              "      <td>0</td>\n",
              "      <td>NaN</td>\n",
              "      <td>NaN</td>\n",
              "      <td>NaN</td>\n",
              "      <td>NaN</td>\n",
              "      <td>NaN</td>\n",
              "      <td>NaN</td>\n",
              "      <td>NaN</td>\n",
              "      <td>NaN</td>\n",
              "      <td>NaN</td>\n",
              "    </tr>\n",
              "    <tr>\n",
              "      <th>1</th>\n",
              "      <td>1000887</td>\n",
              "      <td>2016/17</td>\n",
              "      <td>2017-01-13</td>\n",
              "      <td>Brisbane Cricket Ground, Woolloongabba</td>\n",
              "      <td>1</td>\n",
              "      <td>0.2</td>\n",
              "      <td>Australia</td>\n",
              "      <td>Pakistan</td>\n",
              "      <td>DA Warner</td>\n",
              "      <td>TM Head</td>\n",
              "      <td>Mohammad Amir</td>\n",
              "      <td>0</td>\n",
              "      <td>0</td>\n",
              "      <td>NaN</td>\n",
              "      <td>NaN</td>\n",
              "      <td>NaN</td>\n",
              "      <td>NaN</td>\n",
              "      <td>NaN</td>\n",
              "      <td>NaN</td>\n",
              "      <td>NaN</td>\n",
              "      <td>NaN</td>\n",
              "      <td>NaN</td>\n",
              "    </tr>\n",
              "    <tr>\n",
              "      <th>2</th>\n",
              "      <td>1000887</td>\n",
              "      <td>2016/17</td>\n",
              "      <td>2017-01-13</td>\n",
              "      <td>Brisbane Cricket Ground, Woolloongabba</td>\n",
              "      <td>1</td>\n",
              "      <td>0.3</td>\n",
              "      <td>Australia</td>\n",
              "      <td>Pakistan</td>\n",
              "      <td>DA Warner</td>\n",
              "      <td>TM Head</td>\n",
              "      <td>Mohammad Amir</td>\n",
              "      <td>0</td>\n",
              "      <td>0</td>\n",
              "      <td>NaN</td>\n",
              "      <td>NaN</td>\n",
              "      <td>NaN</td>\n",
              "      <td>NaN</td>\n",
              "      <td>NaN</td>\n",
              "      <td>NaN</td>\n",
              "      <td>NaN</td>\n",
              "      <td>NaN</td>\n",
              "      <td>NaN</td>\n",
              "    </tr>\n",
              "    <tr>\n",
              "      <th>3</th>\n",
              "      <td>1000887</td>\n",
              "      <td>2016/17</td>\n",
              "      <td>2017-01-13</td>\n",
              "      <td>Brisbane Cricket Ground, Woolloongabba</td>\n",
              "      <td>1</td>\n",
              "      <td>0.4</td>\n",
              "      <td>Australia</td>\n",
              "      <td>Pakistan</td>\n",
              "      <td>DA Warner</td>\n",
              "      <td>TM Head</td>\n",
              "      <td>Mohammad Amir</td>\n",
              "      <td>0</td>\n",
              "      <td>0</td>\n",
              "      <td>NaN</td>\n",
              "      <td>NaN</td>\n",
              "      <td>NaN</td>\n",
              "      <td>NaN</td>\n",
              "      <td>NaN</td>\n",
              "      <td>NaN</td>\n",
              "      <td>NaN</td>\n",
              "      <td>NaN</td>\n",
              "      <td>NaN</td>\n",
              "    </tr>\n",
              "    <tr>\n",
              "      <th>4</th>\n",
              "      <td>1000887</td>\n",
              "      <td>2016/17</td>\n",
              "      <td>2017-01-13</td>\n",
              "      <td>Brisbane Cricket Ground, Woolloongabba</td>\n",
              "      <td>1</td>\n",
              "      <td>0.5</td>\n",
              "      <td>Australia</td>\n",
              "      <td>Pakistan</td>\n",
              "      <td>DA Warner</td>\n",
              "      <td>TM Head</td>\n",
              "      <td>Mohammad Amir</td>\n",
              "      <td>0</td>\n",
              "      <td>1</td>\n",
              "      <td>1.0</td>\n",
              "      <td>NaN</td>\n",
              "      <td>NaN</td>\n",
              "      <td>NaN</td>\n",
              "      <td>NaN</td>\n",
              "      <td>NaN</td>\n",
              "      <td>NaN</td>\n",
              "      <td>NaN</td>\n",
              "      <td>NaN</td>\n",
              "    </tr>\n",
              "  </tbody>\n",
              "</table>\n",
              "</div>"
            ],
            "text/plain": [
              "   match_id   season  start_date                                   venue  \\\n",
              "0   1000887  2016/17  2017-01-13  Brisbane Cricket Ground, Woolloongabba   \n",
              "1   1000887  2016/17  2017-01-13  Brisbane Cricket Ground, Woolloongabba   \n",
              "2   1000887  2016/17  2017-01-13  Brisbane Cricket Ground, Woolloongabba   \n",
              "3   1000887  2016/17  2017-01-13  Brisbane Cricket Ground, Woolloongabba   \n",
              "4   1000887  2016/17  2017-01-13  Brisbane Cricket Ground, Woolloongabba   \n",
              "\n",
              "   innings  ball batting_team bowling_team    striker non_striker  \\\n",
              "0        1   0.1    Australia     Pakistan  DA Warner     TM Head   \n",
              "1        1   0.2    Australia     Pakistan  DA Warner     TM Head   \n",
              "2        1   0.3    Australia     Pakistan  DA Warner     TM Head   \n",
              "3        1   0.4    Australia     Pakistan  DA Warner     TM Head   \n",
              "4        1   0.5    Australia     Pakistan  DA Warner     TM Head   \n",
              "\n",
              "          bowler  runs_off_bat  extras  wides  noballs  byes  legbyes  \\\n",
              "0  Mohammad Amir             0       0    NaN      NaN   NaN      NaN   \n",
              "1  Mohammad Amir             0       0    NaN      NaN   NaN      NaN   \n",
              "2  Mohammad Amir             0       0    NaN      NaN   NaN      NaN   \n",
              "3  Mohammad Amir             0       0    NaN      NaN   NaN      NaN   \n",
              "4  Mohammad Amir             0       1    1.0      NaN   NaN      NaN   \n",
              "\n",
              "   penalty wicket_type player_dismissed  other_wicket_type  \\\n",
              "0      NaN         NaN              NaN                NaN   \n",
              "1      NaN         NaN              NaN                NaN   \n",
              "2      NaN         NaN              NaN                NaN   \n",
              "3      NaN         NaN              NaN                NaN   \n",
              "4      NaN         NaN              NaN                NaN   \n",
              "\n",
              "   other_player_dismissed  \n",
              "0                     NaN  \n",
              "1                     NaN  \n",
              "2                     NaN  \n",
              "3                     NaN  \n",
              "4                     NaN  "
            ]
          },
          "metadata": {},
          "execution_count": 9
        }
      ]
    },
    {
      "cell_type": "code",
      "metadata": {
        "colab": {
          "base_uri": "https://localhost:8080/",
          "height": 400
        },
        "id": "2iLuNtcfffbD",
        "outputId": "5c0fa39c-6691-43fb-9f74-904b3e66d4f2"
      },
      "source": [
        "df2.head(5)"
      ],
      "execution_count": 10,
      "outputs": [
        {
          "output_type": "execute_result",
          "data": {
            "text/html": [
              "<div>\n",
              "<style scoped>\n",
              "    .dataframe tbody tr th:only-of-type {\n",
              "        vertical-align: middle;\n",
              "    }\n",
              "\n",
              "    .dataframe tbody tr th {\n",
              "        vertical-align: top;\n",
              "    }\n",
              "\n",
              "    .dataframe thead th {\n",
              "        text-align: right;\n",
              "    }\n",
              "</style>\n",
              "<table border=\"1\" class=\"dataframe\">\n",
              "  <thead>\n",
              "    <tr style=\"text-align: right;\">\n",
              "      <th></th>\n",
              "      <th>match_id</th>\n",
              "      <th>season</th>\n",
              "      <th>start_date</th>\n",
              "      <th>venue</th>\n",
              "      <th>innings</th>\n",
              "      <th>ball</th>\n",
              "      <th>batting_team</th>\n",
              "      <th>bowling_team</th>\n",
              "      <th>striker</th>\n",
              "      <th>non_striker</th>\n",
              "      <th>bowler</th>\n",
              "      <th>runs_off_bat</th>\n",
              "      <th>extras</th>\n",
              "      <th>wides</th>\n",
              "      <th>noballs</th>\n",
              "      <th>byes</th>\n",
              "      <th>legbyes</th>\n",
              "      <th>penalty</th>\n",
              "      <th>wicket_type</th>\n",
              "      <th>player_dismissed</th>\n",
              "      <th>other_wicket_type</th>\n",
              "      <th>other_player_dismissed</th>\n",
              "    </tr>\n",
              "  </thead>\n",
              "  <tbody>\n",
              "    <tr>\n",
              "      <th>0</th>\n",
              "      <td>1001349</td>\n",
              "      <td>2016/17</td>\n",
              "      <td>2017-02-17</td>\n",
              "      <td>Melbourne Cricket Ground</td>\n",
              "      <td>1</td>\n",
              "      <td>0.1</td>\n",
              "      <td>Australia</td>\n",
              "      <td>Sri Lanka</td>\n",
              "      <td>AJ Finch</td>\n",
              "      <td>M Klinger</td>\n",
              "      <td>SL Malinga</td>\n",
              "      <td>0</td>\n",
              "      <td>0</td>\n",
              "      <td>NaN</td>\n",
              "      <td>NaN</td>\n",
              "      <td>NaN</td>\n",
              "      <td>NaN</td>\n",
              "      <td>NaN</td>\n",
              "      <td>NaN</td>\n",
              "      <td>NaN</td>\n",
              "      <td>NaN</td>\n",
              "      <td>NaN</td>\n",
              "    </tr>\n",
              "    <tr>\n",
              "      <th>1</th>\n",
              "      <td>1001349</td>\n",
              "      <td>2016/17</td>\n",
              "      <td>2017-02-17</td>\n",
              "      <td>Melbourne Cricket Ground</td>\n",
              "      <td>1</td>\n",
              "      <td>0.2</td>\n",
              "      <td>Australia</td>\n",
              "      <td>Sri Lanka</td>\n",
              "      <td>AJ Finch</td>\n",
              "      <td>M Klinger</td>\n",
              "      <td>SL Malinga</td>\n",
              "      <td>0</td>\n",
              "      <td>0</td>\n",
              "      <td>NaN</td>\n",
              "      <td>NaN</td>\n",
              "      <td>NaN</td>\n",
              "      <td>NaN</td>\n",
              "      <td>NaN</td>\n",
              "      <td>NaN</td>\n",
              "      <td>NaN</td>\n",
              "      <td>NaN</td>\n",
              "      <td>NaN</td>\n",
              "    </tr>\n",
              "    <tr>\n",
              "      <th>2</th>\n",
              "      <td>1001349</td>\n",
              "      <td>2016/17</td>\n",
              "      <td>2017-02-17</td>\n",
              "      <td>Melbourne Cricket Ground</td>\n",
              "      <td>1</td>\n",
              "      <td>0.3</td>\n",
              "      <td>Australia</td>\n",
              "      <td>Sri Lanka</td>\n",
              "      <td>AJ Finch</td>\n",
              "      <td>M Klinger</td>\n",
              "      <td>SL Malinga</td>\n",
              "      <td>1</td>\n",
              "      <td>0</td>\n",
              "      <td>NaN</td>\n",
              "      <td>NaN</td>\n",
              "      <td>NaN</td>\n",
              "      <td>NaN</td>\n",
              "      <td>NaN</td>\n",
              "      <td>NaN</td>\n",
              "      <td>NaN</td>\n",
              "      <td>NaN</td>\n",
              "      <td>NaN</td>\n",
              "    </tr>\n",
              "    <tr>\n",
              "      <th>3</th>\n",
              "      <td>1001349</td>\n",
              "      <td>2016/17</td>\n",
              "      <td>2017-02-17</td>\n",
              "      <td>Melbourne Cricket Ground</td>\n",
              "      <td>1</td>\n",
              "      <td>0.4</td>\n",
              "      <td>Australia</td>\n",
              "      <td>Sri Lanka</td>\n",
              "      <td>M Klinger</td>\n",
              "      <td>AJ Finch</td>\n",
              "      <td>SL Malinga</td>\n",
              "      <td>2</td>\n",
              "      <td>0</td>\n",
              "      <td>NaN</td>\n",
              "      <td>NaN</td>\n",
              "      <td>NaN</td>\n",
              "      <td>NaN</td>\n",
              "      <td>NaN</td>\n",
              "      <td>NaN</td>\n",
              "      <td>NaN</td>\n",
              "      <td>NaN</td>\n",
              "      <td>NaN</td>\n",
              "    </tr>\n",
              "    <tr>\n",
              "      <th>4</th>\n",
              "      <td>1001349</td>\n",
              "      <td>2016/17</td>\n",
              "      <td>2017-02-17</td>\n",
              "      <td>Melbourne Cricket Ground</td>\n",
              "      <td>1</td>\n",
              "      <td>0.5</td>\n",
              "      <td>Australia</td>\n",
              "      <td>Sri Lanka</td>\n",
              "      <td>M Klinger</td>\n",
              "      <td>AJ Finch</td>\n",
              "      <td>SL Malinga</td>\n",
              "      <td>0</td>\n",
              "      <td>0</td>\n",
              "      <td>NaN</td>\n",
              "      <td>NaN</td>\n",
              "      <td>NaN</td>\n",
              "      <td>NaN</td>\n",
              "      <td>NaN</td>\n",
              "      <td>NaN</td>\n",
              "      <td>NaN</td>\n",
              "      <td>NaN</td>\n",
              "      <td>NaN</td>\n",
              "    </tr>\n",
              "  </tbody>\n",
              "</table>\n",
              "</div>"
            ],
            "text/plain": [
              "   match_id   season  start_date                     venue  innings  ball  \\\n",
              "0   1001349  2016/17  2017-02-17  Melbourne Cricket Ground        1   0.1   \n",
              "1   1001349  2016/17  2017-02-17  Melbourne Cricket Ground        1   0.2   \n",
              "2   1001349  2016/17  2017-02-17  Melbourne Cricket Ground        1   0.3   \n",
              "3   1001349  2016/17  2017-02-17  Melbourne Cricket Ground        1   0.4   \n",
              "4   1001349  2016/17  2017-02-17  Melbourne Cricket Ground        1   0.5   \n",
              "\n",
              "  batting_team bowling_team    striker non_striker      bowler  runs_off_bat  \\\n",
              "0    Australia    Sri Lanka   AJ Finch   M Klinger  SL Malinga             0   \n",
              "1    Australia    Sri Lanka   AJ Finch   M Klinger  SL Malinga             0   \n",
              "2    Australia    Sri Lanka   AJ Finch   M Klinger  SL Malinga             1   \n",
              "3    Australia    Sri Lanka  M Klinger    AJ Finch  SL Malinga             2   \n",
              "4    Australia    Sri Lanka  M Klinger    AJ Finch  SL Malinga             0   \n",
              "\n",
              "   extras  wides  noballs  byes  legbyes  penalty wicket_type  \\\n",
              "0       0    NaN      NaN   NaN      NaN      NaN         NaN   \n",
              "1       0    NaN      NaN   NaN      NaN      NaN         NaN   \n",
              "2       0    NaN      NaN   NaN      NaN      NaN         NaN   \n",
              "3       0    NaN      NaN   NaN      NaN      NaN         NaN   \n",
              "4       0    NaN      NaN   NaN      NaN      NaN         NaN   \n",
              "\n",
              "  player_dismissed  other_wicket_type  other_player_dismissed  \n",
              "0              NaN                NaN                     NaN  \n",
              "1              NaN                NaN                     NaN  \n",
              "2              NaN                NaN                     NaN  \n",
              "3              NaN                NaN                     NaN  \n",
              "4              NaN                NaN                     NaN  "
            ]
          },
          "metadata": {},
          "execution_count": 10
        }
      ]
    },
    {
      "cell_type": "markdown",
      "metadata": {
        "id": "MWCRNUYFg7yr"
      },
      "source": [
        "# **Data Pre-processing**"
      ]
    },
    {
      "cell_type": "code",
      "metadata": {
        "id": "635QHqGJhDl5"
      },
      "source": [
        "#Sort a data frame by \"start_date\", \"match_id\", \"innings\", \"ball\n",
        "df1 = df1.sort_values(by = [\"start_date\", \"match_id\", \"innings\", \"ball\" ],axis = 0,ascending = [True, True, True, True])"
      ],
      "execution_count": 11,
      "outputs": []
    },
    {
      "cell_type": "code",
      "metadata": {
        "id": "e2X-oQSShJUP"
      },
      "source": [
        "#Sort a data frame by \"start_date\", \"match_id\", \"innings\", \"ball\n",
        "df2 = df2.sort_values(by = [\"start_date\", \"match_id\", \"innings\", \"ball\" ],axis = 0,ascending = [True, True, True, True])"
      ],
      "execution_count": 12,
      "outputs": []
    }
  ]
}